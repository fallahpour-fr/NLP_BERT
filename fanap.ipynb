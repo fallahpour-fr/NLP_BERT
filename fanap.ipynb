{
 "cells": [
  {
   "cell_type": "code",
   "execution_count": 1,
   "id": "1c2014f8",
   "metadata": {},
   "outputs": [],
   "source": [
    "import pandas as pd\n",
    "import numpy as np\n",
    "import matplotlib as plt"
   ]
  },
  {
   "cell_type": "code",
   "execution_count": 2,
   "id": "f666bfa0",
   "metadata": {},
   "outputs": [],
   "source": [
    "df=pd.read_excel('./Instagram labeled comments.xlsx')"
   ]
  },
  {
   "cell_type": "code",
   "execution_count": 3,
   "id": "ad05bd3c",
   "metadata": {},
   "outputs": [
    {
     "data": {
      "text/html": [
       "<div>\n",
       "<style scoped>\n",
       "    .dataframe tbody tr th:only-of-type {\n",
       "        vertical-align: middle;\n",
       "    }\n",
       "\n",
       "    .dataframe tbody tr th {\n",
       "        vertical-align: top;\n",
       "    }\n",
       "\n",
       "    .dataframe thead th {\n",
       "        text-align: right;\n",
       "    }\n",
       "</style>\n",
       "<table border=\"1\" class=\"dataframe\">\n",
       "  <thead>\n",
       "    <tr style=\"text-align: right;\">\n",
       "      <th></th>\n",
       "      <th>Unnamed: 0</th>\n",
       "      <th>comment</th>\n",
       "      <th>sentiment</th>\n",
       "      <th>comment.1</th>\n",
       "    </tr>\n",
       "  </thead>\n",
       "  <tbody>\n",
       "    <tr>\n",
       "      <th>0</th>\n",
       "      <td>0</td>\n",
       "      <td>Ø¢Ù‚Ø§ÛŒ Ø±Ø´ÛŒØ¯Ù¾ÙˆØ± Ù…Ù† ØªØ§ Ù‡ÙØªÙ‡ NUM...</td>\n",
       "      <td>1</td>\n",
       "      <td>آقای رشیدپور من تا هفته NUM۲ بچه‌ام پسر بود و ...</td>\n",
       "    </tr>\n",
       "    <tr>\n",
       "      <th>1</th>\n",
       "      <td>1</td>\n",
       "      <td>Ú†Ù‚Ø¯Ø± Ø§ÛŒÙ† Ø¯Ø²Ø¯ Ø¨Ø§Ø­Ø§Ù„ Ø¨ÙˆØ¯ðŸ˜ ð...</td>\n",
       "      <td>1</td>\n",
       "      <td>چقدر این دزد باحال بود😁 😁 😁 😁 😁 😁 🌹</td>\n",
       "    </tr>\n",
       "    <tr>\n",
       "      <th>2</th>\n",
       "      <td>2</td>\n",
       "      <td>Ø³Ù„Ø§Ù… Ø§Ú¯Ø± Ù…Ù…Ú©Ù†Ù‡ Ø§Ø² Ú©Ù„Ù…Ù‡ Ø³ÛŒ ...</td>\n",
       "      <td>-1</td>\n",
       "      <td>سلام اگر ممکنه از کلمه سی تی اسکن تو برنامتون ...</td>\n",
       "    </tr>\n",
       "    <tr>\n",
       "      <th>3</th>\n",
       "      <td>3</td>\n",
       "      <td>Ø´Ù…Ø§ Ù¾ÙˆÙ„ Ø§ÛŒÙ†ØªØ±Ù†ØªØª Ùˆ Ú¯ÙˆØ´ÛŒØª Ø...</td>\n",
       "      <td>0</td>\n",
       "      <td>شما پول اینترنتت و گوشیت رو هزینه بچت کن</td>\n",
       "    </tr>\n",
       "    <tr>\n",
       "      <th>4</th>\n",
       "      <td>4</td>\n",
       "      <td>Ø¢Ù‚Ø§ÛŒ Ø±Ø´ÛŒØ¯ Ù¾ÙˆØ± Ø¨Ù‡ Ø±ÙˆØ³ØªØ§ÛŒ Ù…Ø...</td>\n",
       "      <td>-1</td>\n",
       "      <td>آقای رشید پور به روستای ما بن گوشت یخ زده دادن...</td>\n",
       "    </tr>\n",
       "    <tr>\n",
       "      <th>5</th>\n",
       "      <td>5</td>\n",
       "      <td>Û°Û°Û¸ Ø´Ù…Ø§ Ø®ÛŒÙ„ÛŒ Ø¨Ø¨Ø®Ø´ÛŒØ¯ Ø¨Ø§ Ù¾Ù†Ø...</td>\n",
       "      <td>0</td>\n",
       "      <td>۰۰۸ شما خیلی ببخشید با پنج هزار تومان تا کجا م...</td>\n",
       "    </tr>\n",
       "    <tr>\n",
       "      <th>6</th>\n",
       "      <td>6</td>\n",
       "      <td>Ø³Ù„Ø§Ù… Ù„Ø·ÙØ§ Ù¾ÛŒØ§Ù… Ù…Ù†Ùˆ Ø¨Ø®ÙˆÙ†ÛŒØ¯...</td>\n",
       "      <td>-1</td>\n",
       "      <td>سلام لطفا پیام منو بخونید من دانشجو دانشگاه از...</td>\n",
       "    </tr>\n",
       "    <tr>\n",
       "      <th>7</th>\n",
       "      <td>7</td>\n",
       "      <td>Ø³Ù„Ø§Ù… Ø§Ù‚Ø§ÛŒ Ø±Ø´ÛŒØ¯Ù¾ÙˆØ±ØŒ Ø¨Ù‡ Ø®Ø¯Ø§...</td>\n",
       "      <td>-1</td>\n",
       "      <td>سلام اقای رشیدپور، به خدا دیگه درشان مردم ایرا...</td>\n",
       "    </tr>\n",
       "    <tr>\n",
       "      <th>8</th>\n",
       "      <td>8</td>\n",
       "      <td>Ø³Ù„Ø§Ù… Ùˆ Ø®Ø³ØªÙ‡ Ù†Ø¨Ø§Ø´ÛŒÙ† Ù…Ù† Ú†Ù†Ø¯ ...</td>\n",
       "      <td>-1</td>\n",
       "      <td>سلام و خسته نباشین من چند بار براتون پیام دادی...</td>\n",
       "    </tr>\n",
       "    <tr>\n",
       "      <th>9</th>\n",
       "      <td>9</td>\n",
       "      <td>Ø³Ù„Ø§Ù… Ø¢Ù‚Ø§ÛŒ Ø±Ø´ÛŒØ¯ Ù¾ÙˆØ± Ø¹Ø²ÛŒØ² Ø´Ù...</td>\n",
       "      <td>0</td>\n",
       "      <td>سلام آقای رشید پور عزیز شما به اون آقایی که بر...</td>\n",
       "    </tr>\n",
       "  </tbody>\n",
       "</table>\n",
       "</div>"
      ],
      "text/plain": [
       "   Unnamed: 0                                            comment  sentiment  \\\n",
       "0           0  Ø¢Ù‚Ø§ÛŒ Ø±Ø´ÛŒØ¯Ù¾ÙˆØ± Ù…Ù† ØªØ§ Ù‡ÙØªÙ‡ NUM...          1   \n",
       "1           1  Ú†Ù‚Ø¯Ø± Ø§ÛŒÙ† Ø¯Ø²Ø¯ Ø¨Ø§Ø­Ø§Ù„ Ø¨ÙˆØ¯ðŸ˜ ð...          1   \n",
       "2           2  Ø³Ù„Ø§Ù… Ø§Ú¯Ø± Ù…Ù…Ú©Ù†Ù‡ Ø§Ø² Ú©Ù„Ù…Ù‡ Ø³ÛŒ ...         -1   \n",
       "3           3  Ø´Ù…Ø§ Ù¾ÙˆÙ„ Ø§ÛŒÙ†ØªØ±Ù†ØªØª Ùˆ Ú¯ÙˆØ´ÛŒØª Ø...          0   \n",
       "4           4  Ø¢Ù‚Ø§ÛŒ Ø±Ø´ÛŒØ¯ Ù¾ÙˆØ± Ø¨Ù‡ Ø±ÙˆØ³ØªØ§ÛŒ Ù…Ø...         -1   \n",
       "5           5  Û°Û°Û¸ Ø´Ù…Ø§ Ø®ÛŒÙ„ÛŒ Ø¨Ø¨Ø®Ø´ÛŒØ¯ Ø¨Ø§ Ù¾Ù†Ø...          0   \n",
       "6           6  Ø³Ù„Ø§Ù… Ù„Ø·ÙØ§ Ù¾ÛŒØ§Ù… Ù…Ù†Ùˆ Ø¨Ø®ÙˆÙ†ÛŒØ¯...         -1   \n",
       "7           7  Ø³Ù„Ø§Ù… Ø§Ù‚Ø§ÛŒ Ø±Ø´ÛŒØ¯Ù¾ÙˆØ±ØŒ Ø¨Ù‡ Ø®Ø¯Ø§...         -1   \n",
       "8           8  Ø³Ù„Ø§Ù… Ùˆ Ø®Ø³ØªÙ‡ Ù†Ø¨Ø§Ø´ÛŒÙ† Ù…Ù† Ú†Ù†Ø¯ ...         -1   \n",
       "9           9  Ø³Ù„Ø§Ù… Ø¢Ù‚Ø§ÛŒ Ø±Ø´ÛŒØ¯ Ù¾ÙˆØ± Ø¹Ø²ÛŒØ² Ø´Ù...          0   \n",
       "\n",
       "                                           comment.1  \n",
       "0  آقای رشیدپور من تا هفته NUM۲ بچه‌ام پسر بود و ...  \n",
       "1                چقدر این دزد باحال بود😁 😁 😁 😁 😁 😁 🌹  \n",
       "2  سلام اگر ممکنه از کلمه سی تی اسکن تو برنامتون ...  \n",
       "3           شما پول اینترنتت و گوشیت رو هزینه بچت کن  \n",
       "4  آقای رشید پور به روستای ما بن گوشت یخ زده دادن...  \n",
       "5  ۰۰۸ شما خیلی ببخشید با پنج هزار تومان تا کجا م...  \n",
       "6  سلام لطفا پیام منو بخونید من دانشجو دانشگاه از...  \n",
       "7  سلام اقای رشیدپور، به خدا دیگه درشان مردم ایرا...  \n",
       "8  سلام و خسته نباشین من چند بار براتون پیام دادی...  \n",
       "9  سلام آقای رشید پور عزیز شما به اون آقایی که بر...  "
      ]
     },
     "execution_count": 3,
     "metadata": {},
     "output_type": "execute_result"
    }
   ],
   "source": [
    "df.head(10)"
   ]
  },
  {
   "cell_type": "markdown",
   "id": "0814043f",
   "metadata": {},
   "source": [
    "## Preprocessing"
   ]
  },
  {
   "cell_type": "code",
   "execution_count": 4,
   "id": "cb73cd25",
   "metadata": {},
   "outputs": [],
   "source": [
    "df=df.drop([\"Unnamed: 0\",\"comment\"],axis=1)"
   ]
  },
  {
   "cell_type": "code",
   "execution_count": 5,
   "id": "b086cafd",
   "metadata": {},
   "outputs": [],
   "source": [
    "df=df.rename({\"sentiment\":\"target\",\"comment.1\":\"comment\"},axis=1)"
   ]
  },
  {
   "cell_type": "code",
   "execution_count": 6,
   "id": "cdf5a72c",
   "metadata": {},
   "outputs": [
    {
     "name": "stderr",
     "output_type": "stream",
     "text": [
      "C:\\Users\\Lenovo\\AppData\\Local\\Temp\\ipykernel_8740\\4115358121.py:1: FutureWarning: The default value of regex will change from True to False in a future version.\n",
      "  df['comment']=df['comment'].str.replace(r'[^\\w\\s]+', '')\n"
     ]
    }
   ],
   "source": [
    "df['comment']=df['comment'].str.replace(r'[^\\w\\s]+', '')"
   ]
  },
  {
   "cell_type": "code",
   "execution_count": 7,
   "id": "e7489a6b",
   "metadata": {},
   "outputs": [
    {
     "data": {
      "text/plain": [
       "target      0\n",
       "comment    32\n",
       "dtype: int64"
      ]
     },
     "execution_count": 7,
     "metadata": {},
     "output_type": "execute_result"
    }
   ],
   "source": [
    "df.isnull().sum()"
   ]
  },
  {
   "cell_type": "code",
   "execution_count": 8,
   "id": "ed2d889f",
   "metadata": {},
   "outputs": [],
   "source": [
    "df=df.dropna()"
   ]
  },
  {
   "cell_type": "code",
   "execution_count": 9,
   "id": "5a32dea7",
   "metadata": {},
   "outputs": [
    {
     "data": {
      "text/plain": [
       "target     0\n",
       "comment    0\n",
       "dtype: int64"
      ]
     },
     "execution_count": 9,
     "metadata": {},
     "output_type": "execute_result"
    }
   ],
   "source": [
    "df.isnull().sum()"
   ]
  },
  {
   "cell_type": "code",
   "execution_count": 10,
   "id": "2757c005",
   "metadata": {},
   "outputs": [
    {
     "name": "stdout",
     "output_type": "stream",
     "text": [
      "^C\n"
     ]
    }
   ],
   "source": [
    "%pip install hazm"
   ]
  },
  {
   "cell_type": "code",
   "execution_count": 11,
   "id": "0576c352",
   "metadata": {},
   "outputs": [],
   "source": [
    "from hazm import Normalizer, word_tokenize"
   ]
  },
  {
   "cell_type": "code",
   "execution_count": 12,
   "id": "a10ee373",
   "metadata": {},
   "outputs": [],
   "source": [
    "import re"
   ]
  },
  {
   "cell_type": "code",
   "execution_count": 13,
   "id": "1c91ff9f",
   "metadata": {},
   "outputs": [],
   "source": [
    "normalizer=Normalizer()"
   ]
  },
  {
   "cell_type": "code",
   "execution_count": 14,
   "id": "6d0f4d2a",
   "metadata": {},
   "outputs": [],
   "source": [
    "def func(x):\n",
    "    x=normalizer.normalize(x)\n",
    "    x=x.replace(\"\\_\", \"\\u200c\")\n",
    "    x=re.sub(r\"LINK([^ ])*|TAG|ID|\\-|@|LINK|[A-Za-z]\", \"\", x)\n",
    "    return x"
   ]
  },
  {
   "cell_type": "code",
   "execution_count": 15,
   "id": "8791180f",
   "metadata": {},
   "outputs": [],
   "source": [
    "df['comment']=df['comment'].apply(lambda x:func(x))"
   ]
  },
  {
   "cell_type": "code",
   "execution_count": 16,
   "id": "f416d790",
   "metadata": {},
   "outputs": [
    {
     "data": {
      "text/plain": [
       "'آقای رشیدپور من تا هفته ۲ بچهام پسر بود و لحظه به دنیا اومدنش دختر شد خداروشکررر شما ببین این وروجک چجوری من و باباش و دکتر رو سر انگشتش چرخوند'"
      ]
     },
     "execution_count": 16,
     "metadata": {},
     "output_type": "execute_result"
    }
   ],
   "source": [
    "df['comment'][0]"
   ]
  },
  {
   "cell_type": "code",
   "execution_count": 17,
   "id": "edb32996",
   "metadata": {},
   "outputs": [],
   "source": [
    "from sklearn.feature_extraction.text import TfidfVectorizer"
   ]
  },
  {
   "cell_type": "code",
   "execution_count": 18,
   "id": "0ec6b8d5",
   "metadata": {},
   "outputs": [],
   "source": [
    "from nltk.tokenize import word_tokenize"
   ]
  },
  {
   "cell_type": "code",
   "execution_count": 19,
   "id": "e8af5b8b",
   "metadata": {},
   "outputs": [],
   "source": [
    "import nltk"
   ]
  },
  {
   "cell_type": "code",
   "execution_count": 21,
   "id": "92010f0c",
   "metadata": {},
   "outputs": [
    {
     "ename": "KeyboardInterrupt",
     "evalue": "",
     "output_type": "error",
     "traceback": [
      "\u001b[1;31m---------------------------------------------------------------------------\u001b[0m",
      "\u001b[1;31mKeyboardInterrupt\u001b[0m                         Traceback (most recent call last)",
      "Input \u001b[1;32mIn [21]\u001b[0m, in \u001b[0;36m<cell line: 1>\u001b[1;34m()\u001b[0m\n\u001b[1;32m----> 1\u001b[0m \u001b[43mnltk\u001b[49m\u001b[38;5;241;43m.\u001b[39;49m\u001b[43mdownload\u001b[49m\u001b[43m(\u001b[49m\u001b[43m)\u001b[49m\n",
      "File \u001b[1;32m~\\AppData\\Roaming\\Python\\Python310\\site-packages\\nltk\\downloader.py:661\u001b[0m, in \u001b[0;36mDownloader.download\u001b[1;34m(self, info_or_id, download_dir, quiet, force, prefix, halt_on_error, raise_on_error)\u001b[0m\n\u001b[0;32m    656\u001b[0m \u001b[38;5;28;01mif\u001b[39;00m info_or_id \u001b[38;5;129;01mis\u001b[39;00m \u001b[38;5;28;01mNone\u001b[39;00m:\n\u001b[0;32m    657\u001b[0m     \u001b[38;5;66;03m# [xx] hmm -- changing self._download_dir here seems like\u001b[39;00m\n\u001b[0;32m    658\u001b[0m     \u001b[38;5;66;03m# the wrong thing to do.  Maybe the _interactive_download\u001b[39;00m\n\u001b[0;32m    659\u001b[0m     \u001b[38;5;66;03m# function should make a new copy of self to use?\u001b[39;00m\n\u001b[0;32m    660\u001b[0m     \u001b[38;5;28;01mif\u001b[39;00m download_dir \u001b[38;5;129;01mis\u001b[39;00m \u001b[38;5;129;01mnot\u001b[39;00m \u001b[38;5;28;01mNone\u001b[39;00m: \u001b[38;5;28mself\u001b[39m\u001b[38;5;241m.\u001b[39m_download_dir \u001b[38;5;241m=\u001b[39m download_dir\n\u001b[1;32m--> 661\u001b[0m     \u001b[38;5;28;43mself\u001b[39;49m\u001b[38;5;241;43m.\u001b[39;49m\u001b[43m_interactive_download\u001b[49m\u001b[43m(\u001b[49m\u001b[43m)\u001b[49m\n\u001b[0;32m    662\u001b[0m     \u001b[38;5;28;01mreturn\u001b[39;00m \u001b[38;5;28;01mTrue\u001b[39;00m\n\u001b[0;32m    664\u001b[0m \u001b[38;5;28;01melse\u001b[39;00m:\n\u001b[0;32m    665\u001b[0m     \u001b[38;5;66;03m# Define a helper function for displaying output:\u001b[39;00m\n",
      "File \u001b[1;32m~\\AppData\\Roaming\\Python\\Python310\\site-packages\\nltk\\downloader.py:982\u001b[0m, in \u001b[0;36mDownloader._interactive_download\u001b[1;34m(self)\u001b[0m\n\u001b[0;32m    980\u001b[0m \u001b[38;5;28;01mif\u001b[39;00m TKINTER:\n\u001b[0;32m    981\u001b[0m     \u001b[38;5;28;01mtry\u001b[39;00m:\n\u001b[1;32m--> 982\u001b[0m         \u001b[43mDownloaderGUI\u001b[49m\u001b[43m(\u001b[49m\u001b[38;5;28;43mself\u001b[39;49m\u001b[43m)\u001b[49m\u001b[38;5;241m.\u001b[39mmainloop()\n\u001b[0;32m    983\u001b[0m     \u001b[38;5;28;01mexcept\u001b[39;00m TclError:\n\u001b[0;32m    984\u001b[0m         DownloaderShell(\u001b[38;5;28mself\u001b[39m)\u001b[38;5;241m.\u001b[39mrun()\n",
      "File \u001b[1;32m~\\AppData\\Roaming\\Python\\Python310\\site-packages\\nltk\\downloader.py:1242\u001b[0m, in \u001b[0;36mDownloaderGUI.__init__\u001b[1;34m(self, dataserver, use_threads)\u001b[0m\n\u001b[0;32m   1240\u001b[0m \u001b[38;5;28mself\u001b[39m\u001b[38;5;241m.\u001b[39m_init_menu()\n\u001b[0;32m   1241\u001b[0m \u001b[38;5;28;01mtry\u001b[39;00m:\n\u001b[1;32m-> 1242\u001b[0m     \u001b[38;5;28;43mself\u001b[39;49m\u001b[38;5;241;43m.\u001b[39;49m\u001b[43m_fill_table\u001b[49m\u001b[43m(\u001b[49m\u001b[43m)\u001b[49m\n\u001b[0;32m   1243\u001b[0m \u001b[38;5;28;01mexcept\u001b[39;00m HTTPError \u001b[38;5;28;01mas\u001b[39;00m e:\n\u001b[0;32m   1244\u001b[0m     showerror(\u001b[38;5;124m'\u001b[39m\u001b[38;5;124mError reading from server\u001b[39m\u001b[38;5;124m'\u001b[39m, e)\n",
      "File \u001b[1;32m~\\AppData\\Roaming\\Python\\Python310\\site-packages\\nltk\\downloader.py:1541\u001b[0m, in \u001b[0;36mDownloaderGUI._fill_table\u001b[1;34m(self)\u001b[0m\n\u001b[0;32m   1539\u001b[0m \u001b[38;5;28;01melse\u001b[39;00m:\n\u001b[0;32m   1540\u001b[0m     \u001b[38;5;28;01massert\u001b[39;00m \u001b[38;5;241m0\u001b[39m, \u001b[38;5;124m'\u001b[39m\u001b[38;5;124mbad tab value \u001b[39m\u001b[38;5;132;01m%r\u001b[39;00m\u001b[38;5;124m'\u001b[39m \u001b[38;5;241m%\u001b[39m \u001b[38;5;28mself\u001b[39m\u001b[38;5;241m.\u001b[39m_tab\n\u001b[1;32m-> 1541\u001b[0m rows \u001b[38;5;241m=\u001b[39m [\u001b[38;5;28mself\u001b[39m\u001b[38;5;241m.\u001b[39m_package_to_columns(item) \u001b[38;5;28;01mfor\u001b[39;00m item \u001b[38;5;129;01min\u001b[39;00m items]\n\u001b[0;32m   1542\u001b[0m \u001b[38;5;28mself\u001b[39m\u001b[38;5;241m.\u001b[39m_table\u001b[38;5;241m.\u001b[39mextend(rows)\n\u001b[0;32m   1544\u001b[0m \u001b[38;5;66;03m# Highlight the active tab.\u001b[39;00m\n",
      "File \u001b[1;32m~\\AppData\\Roaming\\Python\\Python310\\site-packages\\nltk\\downloader.py:1541\u001b[0m, in \u001b[0;36m<listcomp>\u001b[1;34m(.0)\u001b[0m\n\u001b[0;32m   1539\u001b[0m \u001b[38;5;28;01melse\u001b[39;00m:\n\u001b[0;32m   1540\u001b[0m     \u001b[38;5;28;01massert\u001b[39;00m \u001b[38;5;241m0\u001b[39m, \u001b[38;5;124m'\u001b[39m\u001b[38;5;124mbad tab value \u001b[39m\u001b[38;5;132;01m%r\u001b[39;00m\u001b[38;5;124m'\u001b[39m \u001b[38;5;241m%\u001b[39m \u001b[38;5;28mself\u001b[39m\u001b[38;5;241m.\u001b[39m_tab\n\u001b[1;32m-> 1541\u001b[0m rows \u001b[38;5;241m=\u001b[39m [\u001b[38;5;28;43mself\u001b[39;49m\u001b[38;5;241;43m.\u001b[39;49m\u001b[43m_package_to_columns\u001b[49m\u001b[43m(\u001b[49m\u001b[43mitem\u001b[49m\u001b[43m)\u001b[49m \u001b[38;5;28;01mfor\u001b[39;00m item \u001b[38;5;129;01min\u001b[39;00m items]\n\u001b[0;32m   1542\u001b[0m \u001b[38;5;28mself\u001b[39m\u001b[38;5;241m.\u001b[39m_table\u001b[38;5;241m.\u001b[39mextend(rows)\n\u001b[0;32m   1544\u001b[0m \u001b[38;5;66;03m# Highlight the active tab.\u001b[39;00m\n",
      "File \u001b[1;32m~\\AppData\\Roaming\\Python\\Python310\\site-packages\\nltk\\downloader.py:1687\u001b[0m, in \u001b[0;36mDownloaderGUI._package_to_columns\u001b[1;34m(self, pkg)\u001b[0m\n\u001b[0;32m   1685\u001b[0m     row\u001b[38;5;241m.\u001b[39mappend(pkg\u001b[38;5;241m.\u001b[39mid)\n\u001b[0;32m   1686\u001b[0m \u001b[38;5;28;01melif\u001b[39;00m column_name \u001b[38;5;241m==\u001b[39m \u001b[38;5;124m'\u001b[39m\u001b[38;5;124mStatus\u001b[39m\u001b[38;5;124m'\u001b[39m:\n\u001b[1;32m-> 1687\u001b[0m     row\u001b[38;5;241m.\u001b[39mappend(\u001b[38;5;28;43mself\u001b[39;49m\u001b[38;5;241;43m.\u001b[39;49m\u001b[43m_ds\u001b[49m\u001b[38;5;241;43m.\u001b[39;49m\u001b[43mstatus\u001b[49m\u001b[43m(\u001b[49m\u001b[43mpkg\u001b[49m\u001b[43m)\u001b[49m)\n\u001b[0;32m   1688\u001b[0m \u001b[38;5;28;01melse\u001b[39;00m:\n\u001b[0;32m   1689\u001b[0m     attr \u001b[38;5;241m=\u001b[39m column_name\u001b[38;5;241m.\u001b[39mlower()\u001b[38;5;241m.\u001b[39mreplace(\u001b[38;5;124m'\u001b[39m\u001b[38;5;124m \u001b[39m\u001b[38;5;124m'\u001b[39m, \u001b[38;5;124m'\u001b[39m\u001b[38;5;124m_\u001b[39m\u001b[38;5;124m'\u001b[39m)\n",
      "File \u001b[1;32m~\\AppData\\Roaming\\Python\\Python310\\site-packages\\nltk\\downloader.py:748\u001b[0m, in \u001b[0;36mDownloader.status\u001b[1;34m(self, info_or_id, download_dir)\u001b[0m\n\u001b[0;32m    746\u001b[0m \u001b[38;5;66;03m# Handle collections:\u001b[39;00m\n\u001b[0;32m    747\u001b[0m \u001b[38;5;28;01mif\u001b[39;00m \u001b[38;5;28misinstance\u001b[39m(info, Collection):\n\u001b[1;32m--> 748\u001b[0m     pkg_status \u001b[38;5;241m=\u001b[39m [\u001b[38;5;28mself\u001b[39m\u001b[38;5;241m.\u001b[39mstatus(pkg\u001b[38;5;241m.\u001b[39mid) \u001b[38;5;28;01mfor\u001b[39;00m pkg \u001b[38;5;129;01min\u001b[39;00m info\u001b[38;5;241m.\u001b[39mpackages]\n\u001b[0;32m    749\u001b[0m     \u001b[38;5;28;01mif\u001b[39;00m \u001b[38;5;28mself\u001b[39m\u001b[38;5;241m.\u001b[39mSTALE \u001b[38;5;129;01min\u001b[39;00m pkg_status:\n\u001b[0;32m    750\u001b[0m         \u001b[38;5;28;01mreturn\u001b[39;00m \u001b[38;5;28mself\u001b[39m\u001b[38;5;241m.\u001b[39mSTALE\n",
      "File \u001b[1;32m~\\AppData\\Roaming\\Python\\Python310\\site-packages\\nltk\\downloader.py:748\u001b[0m, in \u001b[0;36m<listcomp>\u001b[1;34m(.0)\u001b[0m\n\u001b[0;32m    746\u001b[0m \u001b[38;5;66;03m# Handle collections:\u001b[39;00m\n\u001b[0;32m    747\u001b[0m \u001b[38;5;28;01mif\u001b[39;00m \u001b[38;5;28misinstance\u001b[39m(info, Collection):\n\u001b[1;32m--> 748\u001b[0m     pkg_status \u001b[38;5;241m=\u001b[39m [\u001b[38;5;28;43mself\u001b[39;49m\u001b[38;5;241;43m.\u001b[39;49m\u001b[43mstatus\u001b[49m\u001b[43m(\u001b[49m\u001b[43mpkg\u001b[49m\u001b[38;5;241;43m.\u001b[39;49m\u001b[43mid\u001b[49m\u001b[43m)\u001b[49m \u001b[38;5;28;01mfor\u001b[39;00m pkg \u001b[38;5;129;01min\u001b[39;00m info\u001b[38;5;241m.\u001b[39mpackages]\n\u001b[0;32m    749\u001b[0m     \u001b[38;5;28;01mif\u001b[39;00m \u001b[38;5;28mself\u001b[39m\u001b[38;5;241m.\u001b[39mSTALE \u001b[38;5;129;01min\u001b[39;00m pkg_status:\n\u001b[0;32m    750\u001b[0m         \u001b[38;5;28;01mreturn\u001b[39;00m \u001b[38;5;28mself\u001b[39m\u001b[38;5;241m.\u001b[39mSTALE\n",
      "File \u001b[1;32m~\\AppData\\Roaming\\Python\\Python310\\site-packages\\nltk\\downloader.py:768\u001b[0m, in \u001b[0;36mDownloader.status\u001b[1;34m(self, info_or_id, download_dir)\u001b[0m\n\u001b[0;32m    766\u001b[0m \u001b[38;5;28;01melse\u001b[39;00m:\n\u001b[0;32m    767\u001b[0m     \u001b[38;5;28;01mif\u001b[39;00m info\u001b[38;5;241m.\u001b[39mid \u001b[38;5;129;01mnot\u001b[39;00m \u001b[38;5;129;01min\u001b[39;00m \u001b[38;5;28mself\u001b[39m\u001b[38;5;241m.\u001b[39m_status_cache:\n\u001b[1;32m--> 768\u001b[0m         \u001b[38;5;28mself\u001b[39m\u001b[38;5;241m.\u001b[39m_status_cache[info\u001b[38;5;241m.\u001b[39mid] \u001b[38;5;241m=\u001b[39m \u001b[38;5;28;43mself\u001b[39;49m\u001b[38;5;241;43m.\u001b[39;49m\u001b[43m_pkg_status\u001b[49m\u001b[43m(\u001b[49m\u001b[43minfo\u001b[49m\u001b[43m,\u001b[49m\n\u001b[0;32m    769\u001b[0m \u001b[43m                                                       \u001b[49m\u001b[43mfilepath\u001b[49m\u001b[43m)\u001b[49m\n\u001b[0;32m    770\u001b[0m     \u001b[38;5;28;01mreturn\u001b[39;00m \u001b[38;5;28mself\u001b[39m\u001b[38;5;241m.\u001b[39m_status_cache[info\u001b[38;5;241m.\u001b[39mid]\n",
      "File \u001b[1;32m~\\AppData\\Roaming\\Python\\Python310\\site-packages\\nltk\\downloader.py:795\u001b[0m, in \u001b[0;36mDownloader._pkg_status\u001b[1;34m(self, info, filepath)\u001b[0m\n\u001b[0;32m    792\u001b[0m \u001b[38;5;28;01mif\u001b[39;00m \u001b[38;5;129;01mnot\u001b[39;00m os\u001b[38;5;241m.\u001b[39mpath\u001b[38;5;241m.\u001b[39misdir(unzipdir):\n\u001b[0;32m    793\u001b[0m     \u001b[38;5;28;01mreturn\u001b[39;00m \u001b[38;5;28mself\u001b[39m\u001b[38;5;241m.\u001b[39mSTALE\n\u001b[1;32m--> 795\u001b[0m unzipped_size \u001b[38;5;241m=\u001b[39m \u001b[38;5;28;43msum\u001b[39;49m\u001b[43m(\u001b[49m\u001b[43mos\u001b[49m\u001b[38;5;241;43m.\u001b[39;49m\u001b[43mstat\u001b[49m\u001b[43m(\u001b[49m\u001b[43mos\u001b[49m\u001b[38;5;241;43m.\u001b[39;49m\u001b[43mpath\u001b[49m\u001b[38;5;241;43m.\u001b[39;49m\u001b[43mjoin\u001b[49m\u001b[43m(\u001b[49m\u001b[43md\u001b[49m\u001b[43m,\u001b[49m\u001b[43m \u001b[49m\u001b[43mf\u001b[49m\u001b[43m)\u001b[49m\u001b[43m)\u001b[49m\u001b[38;5;241;43m.\u001b[39;49m\u001b[43mst_size\u001b[49m\n\u001b[0;32m    796\u001b[0m \u001b[43m                    \u001b[49m\u001b[38;5;28;43;01mfor\u001b[39;49;00m\u001b[43m \u001b[49m\u001b[43md\u001b[49m\u001b[43m,\u001b[49m\u001b[43m \u001b[49m\u001b[43m_\u001b[49m\u001b[43m,\u001b[49m\u001b[43m \u001b[49m\u001b[43mfiles\u001b[49m\u001b[43m \u001b[49m\u001b[38;5;129;43;01min\u001b[39;49;00m\u001b[43m \u001b[49m\u001b[43mos\u001b[49m\u001b[38;5;241;43m.\u001b[39;49m\u001b[43mwalk\u001b[49m\u001b[43m(\u001b[49m\u001b[43munzipdir\u001b[49m\u001b[43m)\u001b[49m\n\u001b[0;32m    797\u001b[0m \u001b[43m                    \u001b[49m\u001b[38;5;28;43;01mfor\u001b[39;49;00m\u001b[43m \u001b[49m\u001b[43mf\u001b[49m\u001b[43m \u001b[49m\u001b[38;5;129;43;01min\u001b[39;49;00m\u001b[43m \u001b[49m\u001b[43mfiles\u001b[49m\u001b[43m)\u001b[49m\n\u001b[0;32m    798\u001b[0m \u001b[38;5;28;01mif\u001b[39;00m unzipped_size \u001b[38;5;241m!=\u001b[39m info\u001b[38;5;241m.\u001b[39munzipped_size:\n\u001b[0;32m    799\u001b[0m     \u001b[38;5;28;01mreturn\u001b[39;00m \u001b[38;5;28mself\u001b[39m\u001b[38;5;241m.\u001b[39mSTALE\n",
      "File \u001b[1;32m~\\AppData\\Roaming\\Python\\Python310\\site-packages\\nltk\\downloader.py:795\u001b[0m, in \u001b[0;36m<genexpr>\u001b[1;34m(.0)\u001b[0m\n\u001b[0;32m    792\u001b[0m \u001b[38;5;28;01mif\u001b[39;00m \u001b[38;5;129;01mnot\u001b[39;00m os\u001b[38;5;241m.\u001b[39mpath\u001b[38;5;241m.\u001b[39misdir(unzipdir):\n\u001b[0;32m    793\u001b[0m     \u001b[38;5;28;01mreturn\u001b[39;00m \u001b[38;5;28mself\u001b[39m\u001b[38;5;241m.\u001b[39mSTALE\n\u001b[1;32m--> 795\u001b[0m unzipped_size \u001b[38;5;241m=\u001b[39m \u001b[38;5;28msum\u001b[39m(\u001b[43mos\u001b[49m\u001b[38;5;241;43m.\u001b[39;49m\u001b[43mstat\u001b[49m\u001b[43m(\u001b[49m\u001b[43mos\u001b[49m\u001b[38;5;241;43m.\u001b[39;49m\u001b[43mpath\u001b[49m\u001b[38;5;241;43m.\u001b[39;49m\u001b[43mjoin\u001b[49m\u001b[43m(\u001b[49m\u001b[43md\u001b[49m\u001b[43m,\u001b[49m\u001b[43m \u001b[49m\u001b[43mf\u001b[49m\u001b[43m)\u001b[49m\u001b[43m)\u001b[49m\u001b[38;5;241m.\u001b[39mst_size\n\u001b[0;32m    796\u001b[0m                     \u001b[38;5;28;01mfor\u001b[39;00m d, _, files \u001b[38;5;129;01min\u001b[39;00m os\u001b[38;5;241m.\u001b[39mwalk(unzipdir)\n\u001b[0;32m    797\u001b[0m                     \u001b[38;5;28;01mfor\u001b[39;00m f \u001b[38;5;129;01min\u001b[39;00m files)\n\u001b[0;32m    798\u001b[0m \u001b[38;5;28;01mif\u001b[39;00m unzipped_size \u001b[38;5;241m!=\u001b[39m info\u001b[38;5;241m.\u001b[39munzipped_size:\n\u001b[0;32m    799\u001b[0m     \u001b[38;5;28;01mreturn\u001b[39;00m \u001b[38;5;28mself\u001b[39m\u001b[38;5;241m.\u001b[39mSTALE\n",
      "\u001b[1;31mKeyboardInterrupt\u001b[0m: "
     ]
    }
   ],
   "source": [
    "nltk.download()"
   ]
  },
  {
   "cell_type": "code",
   "execution_count": null,
   "id": "2c24d92f",
   "metadata": {},
   "outputs": [],
   "source": [
    "!python -m nltk.downloader popular"
   ]
  },
  {
   "cell_type": "code",
   "execution_count": 25,
   "id": "6dc31514",
   "metadata": {},
   "outputs": [
    {
     "name": "stdout",
     "output_type": "stream",
     "text": [
      "[nltk_data] Downloading collection 'popular'\n",
      "[nltk_data]    | \n",
      "[nltk_data]    | Downloading package cmudict to\n",
      "[nltk_data]    |     C:\\Users\\Lenovo\\AppData\\Roaming\\nltk_data...\n",
      "[nltk_data]    |   Package cmudict is already up-to-date!\n",
      "[nltk_data]    | Downloading package gazetteers to\n",
      "[nltk_data]    |     C:\\Users\\Lenovo\\AppData\\Roaming\\nltk_data...\n",
      "[nltk_data]    |   Package gazetteers is already up-to-date!\n",
      "[nltk_data]    | Downloading package genesis to\n",
      "[nltk_data]    |     C:\\Users\\Lenovo\\AppData\\Roaming\\nltk_data...\n",
      "[nltk_data]    |   Package genesis is already up-to-date!\n",
      "[nltk_data]    | Downloading package gutenberg to\n",
      "[nltk_data]    |     C:\\Users\\Lenovo\\AppData\\Roaming\\nltk_data...\n",
      "[nltk_data]    |   Package gutenberg is already up-to-date!\n",
      "[nltk_data]    | Downloading package inaugural to\n",
      "[nltk_data]    |     C:\\Users\\Lenovo\\AppData\\Roaming\\nltk_data...\n",
      "[nltk_data]    |   Package inaugural is already up-to-date!\n",
      "[nltk_data]    | Downloading package movie_reviews to\n",
      "[nltk_data]    |     C:\\Users\\Lenovo\\AppData\\Roaming\\nltk_data...\n",
      "[nltk_data]    |   Package movie_reviews is already up-to-date!\n",
      "[nltk_data]    | Downloading package names to\n",
      "[nltk_data]    |     C:\\Users\\Lenovo\\AppData\\Roaming\\nltk_data...\n",
      "[nltk_data]    |   Package names is already up-to-date!\n",
      "[nltk_data]    | Downloading package shakespeare to\n",
      "[nltk_data]    |     C:\\Users\\Lenovo\\AppData\\Roaming\\nltk_data...\n",
      "[nltk_data]    |   Package shakespeare is already up-to-date!\n",
      "[nltk_data]    | Downloading package stopwords to\n",
      "[nltk_data]    |     C:\\Users\\Lenovo\\AppData\\Roaming\\nltk_data...\n",
      "[nltk_data]    |   Package stopwords is already up-to-date!\n",
      "[nltk_data]    | Downloading package treebank to\n",
      "[nltk_data]    |     C:\\Users\\Lenovo\\AppData\\Roaming\\nltk_data...\n",
      "[nltk_data]    |   Package treebank is already up-to-date!\n",
      "[nltk_data]    | Downloading package twitter_samples to\n",
      "[nltk_data]    |     C:\\Users\\Lenovo\\AppData\\Roaming\\nltk_data...\n",
      "[nltk_data]    |   Package twitter_samples is already up-to-date!\n",
      "[nltk_data]    | Downloading package omw to\n",
      "[nltk_data]    |     C:\\Users\\Lenovo\\AppData\\Roaming\\nltk_data...\n",
      "[nltk_data]    |   Package omw is already up-to-date!\n",
      "[nltk_data]    | Downloading package omw-1.4 to\n",
      "[nltk_data]    |     C:\\Users\\Lenovo\\AppData\\Roaming\\nltk_data...\n",
      "[nltk_data]    |   Package omw-1.4 is already up-to-date!\n",
      "[nltk_data]    | Downloading package wordnet to\n",
      "[nltk_data]    |     C:\\Users\\Lenovo\\AppData\\Roaming\\nltk_data...\n",
      "[nltk_data]    |   Package wordnet is already up-to-date!\n",
      "[nltk_data]    | Downloading package wordnet2021 to\n",
      "[nltk_data]    |     C:\\Users\\Lenovo\\AppData\\Roaming\\nltk_data...\n",
      "[nltk_data]    |   Package wordnet2021 is already up-to-date!\n",
      "[nltk_data]    | Downloading package wordnet31 to\n",
      "[nltk_data]    |     C:\\Users\\Lenovo\\AppData\\Roaming\\nltk_data...\n",
      "[nltk_data]    |   Package wordnet31 is already up-to-date!\n",
      "[nltk_data]    | Downloading package wordnet_ic to\n",
      "[nltk_data]    |     C:\\Users\\Lenovo\\AppData\\Roaming\\nltk_data...\n",
      "[nltk_data]    |   Package wordnet_ic is already up-to-date!\n",
      "[nltk_data]    | Downloading package words to\n",
      "[nltk_data]    |     C:\\Users\\Lenovo\\AppData\\Roaming\\nltk_data...\n",
      "[nltk_data]    |   Package words is already up-to-date!\n",
      "[nltk_data]    | Downloading package maxent_ne_chunker to\n",
      "[nltk_data]    |     C:\\Users\\Lenovo\\AppData\\Roaming\\nltk_data...\n",
      "[nltk_data]    |   Package maxent_ne_chunker is already up-to-date!\n",
      "[nltk_data]    | Downloading package punkt to\n",
      "[nltk_data]    |     C:\\Users\\Lenovo\\AppData\\Roaming\\nltk_data...\n",
      "[nltk_data]    |   Package punkt is already up-to-date!\n",
      "[nltk_data]    | Downloading package snowball_data to\n",
      "[nltk_data]    |     C:\\Users\\Lenovo\\AppData\\Roaming\\nltk_data...\n",
      "[nltk_data]    |   Package snowball_data is already up-to-date!\n",
      "[nltk_data]    | Downloading package averaged_perceptron_tagger to\n",
      "[nltk_data]    |     C:\\Users\\Lenovo\\AppData\\Roaming\\nltk_data...\n",
      "[nltk_data]    |   Package averaged_perceptron_tagger is already up-\n",
      "[nltk_data]    |       to-date!\n",
      "[nltk_data]    | \n",
      "[nltk_data]  Done downloading collection popular\n"
     ]
    },
    {
     "data": {
      "text/plain": [
       "True"
      ]
     },
     "execution_count": 25,
     "metadata": {},
     "output_type": "execute_result"
    }
   ],
   "source": [
    "nltk.download('popular')"
   ]
  },
  {
   "cell_type": "code",
   "execution_count": 20,
   "id": "2a081595",
   "metadata": {},
   "outputs": [],
   "source": [
    "df2=df[0:2000]"
   ]
  },
  {
   "cell_type": "code",
   "execution_count": 21,
   "id": "a74a3942",
   "metadata": {},
   "outputs": [],
   "source": [
    "groups=df2['comment'].values"
   ]
  },
  {
   "cell_type": "code",
   "execution_count": 22,
   "id": "c12400a1",
   "metadata": {},
   "outputs": [],
   "source": [
    "vectorizer = TfidfVectorizer()"
   ]
  },
  {
   "cell_type": "code",
   "execution_count": 23,
   "id": "ba52af70",
   "metadata": {},
   "outputs": [],
   "source": [
    "vectors = vectorizer.fit_transform(groups)"
   ]
  },
  {
   "cell_type": "code",
   "execution_count": 24,
   "id": "200d6ff4",
   "metadata": {},
   "outputs": [],
   "source": [
    "feature_name=vectorizer.get_feature_names_out()"
   ]
  },
  {
   "cell_type": "code",
   "execution_count": 25,
   "id": "0a59d357",
   "metadata": {},
   "outputs": [],
   "source": [
    "arr=[]"
   ]
  },
  {
   "cell_type": "code",
   "execution_count": 26,
   "id": "4a3f42c8",
   "metadata": {},
   "outputs": [],
   "source": [
    "for i in feature_name:\n",
    "    if \"_\" in i:\n",
    "        arr.append(i.replace(\"_\",\" \").strip())\n",
    "    else:\n",
    "        arr.append(i) "
   ]
  },
  {
   "cell_type": "code",
   "execution_count": 27,
   "id": "cc98b85e",
   "metadata": {},
   "outputs": [],
   "source": [
    "dense_list=vectors.todense().tolist()"
   ]
  },
  {
   "cell_type": "code",
   "execution_count": 28,
   "id": "88683006",
   "metadata": {},
   "outputs": [],
   "source": [
    "selected_df=pd.DataFrame(dense_list,columns=arr)"
   ]
  },
  {
   "cell_type": "code",
   "execution_count": 29,
   "id": "dfe2441e",
   "metadata": {},
   "outputs": [],
   "source": [
    "selected_df.drop('',axis=1,inplace=True)"
   ]
  },
  {
   "cell_type": "code",
   "execution_count": 30,
   "id": "961620af",
   "metadata": {},
   "outputs": [
    {
     "data": {
      "text/html": [
       "<div>\n",
       "<style scoped>\n",
       "    .dataframe tbody tr th:only-of-type {\n",
       "        vertical-align: middle;\n",
       "    }\n",
       "\n",
       "    .dataframe tbody tr th {\n",
       "        vertical-align: top;\n",
       "    }\n",
       "\n",
       "    .dataframe thead th {\n",
       "        text-align: right;\n",
       "    }\n",
       "</style>\n",
       "<table border=\"1\" class=\"dataframe\">\n",
       "  <thead>\n",
       "    <tr style=\"text-align: right;\">\n",
       "      <th></th>\n",
       "      <th>آموز</th>\n",
       "      <th>ایثارگران</th>\n",
       "      <th>با</th>\n",
       "      <th>به</th>\n",
       "      <th>تجزیه</th>\n",
       "      <th>جانبازان</th>\n",
       "      <th>جوابگو</th>\n",
       "      <th>را</th>\n",
       "      <th>معلمان</th>\n",
       "      <th>نه</th>\n",
       "      <th>نیست</th>\n",
       "      <th>وزیر</th>\n",
       "      <th>پایان</th>\n",
       "      <th>کنید</th>\n",
       "    </tr>\n",
       "  </thead>\n",
       "  <tbody>\n",
       "    <tr>\n",
       "      <th>0</th>\n",
       "      <td>0.0</td>\n",
       "      <td>0.0</td>\n",
       "      <td>0.000000</td>\n",
       "      <td>0.0</td>\n",
       "      <td>0.0</td>\n",
       "      <td>0.0</td>\n",
       "      <td>0.0</td>\n",
       "      <td>0.000000</td>\n",
       "      <td>0.0</td>\n",
       "      <td>0.0</td>\n",
       "      <td>0.000000</td>\n",
       "      <td>0.0</td>\n",
       "      <td>0.0</td>\n",
       "      <td>0.000000</td>\n",
       "    </tr>\n",
       "    <tr>\n",
       "      <th>1</th>\n",
       "      <td>0.0</td>\n",
       "      <td>0.0</td>\n",
       "      <td>0.000000</td>\n",
       "      <td>0.0</td>\n",
       "      <td>0.0</td>\n",
       "      <td>0.0</td>\n",
       "      <td>0.0</td>\n",
       "      <td>0.000000</td>\n",
       "      <td>0.0</td>\n",
       "      <td>0.0</td>\n",
       "      <td>0.000000</td>\n",
       "      <td>0.0</td>\n",
       "      <td>0.0</td>\n",
       "      <td>0.000000</td>\n",
       "    </tr>\n",
       "    <tr>\n",
       "      <th>2</th>\n",
       "      <td>0.0</td>\n",
       "      <td>0.0</td>\n",
       "      <td>0.000000</td>\n",
       "      <td>0.0</td>\n",
       "      <td>0.0</td>\n",
       "      <td>0.0</td>\n",
       "      <td>0.0</td>\n",
       "      <td>0.000000</td>\n",
       "      <td>0.0</td>\n",
       "      <td>0.0</td>\n",
       "      <td>0.162595</td>\n",
       "      <td>0.0</td>\n",
       "      <td>0.0</td>\n",
       "      <td>0.000000</td>\n",
       "    </tr>\n",
       "    <tr>\n",
       "      <th>3</th>\n",
       "      <td>0.0</td>\n",
       "      <td>0.0</td>\n",
       "      <td>0.000000</td>\n",
       "      <td>0.0</td>\n",
       "      <td>0.0</td>\n",
       "      <td>0.0</td>\n",
       "      <td>0.0</td>\n",
       "      <td>0.000000</td>\n",
       "      <td>0.0</td>\n",
       "      <td>0.0</td>\n",
       "      <td>0.000000</td>\n",
       "      <td>0.0</td>\n",
       "      <td>0.0</td>\n",
       "      <td>0.000000</td>\n",
       "    </tr>\n",
       "    <tr>\n",
       "      <th>4</th>\n",
       "      <td>0.0</td>\n",
       "      <td>0.0</td>\n",
       "      <td>0.000000</td>\n",
       "      <td>0.0</td>\n",
       "      <td>0.0</td>\n",
       "      <td>0.0</td>\n",
       "      <td>0.0</td>\n",
       "      <td>0.124882</td>\n",
       "      <td>0.0</td>\n",
       "      <td>0.0</td>\n",
       "      <td>0.000000</td>\n",
       "      <td>0.0</td>\n",
       "      <td>0.0</td>\n",
       "      <td>0.000000</td>\n",
       "    </tr>\n",
       "    <tr>\n",
       "      <th>...</th>\n",
       "      <td>...</td>\n",
       "      <td>...</td>\n",
       "      <td>...</td>\n",
       "      <td>...</td>\n",
       "      <td>...</td>\n",
       "      <td>...</td>\n",
       "      <td>...</td>\n",
       "      <td>...</td>\n",
       "      <td>...</td>\n",
       "      <td>...</td>\n",
       "      <td>...</td>\n",
       "      <td>...</td>\n",
       "      <td>...</td>\n",
       "      <td>...</td>\n",
       "    </tr>\n",
       "    <tr>\n",
       "      <th>1995</th>\n",
       "      <td>0.0</td>\n",
       "      <td>0.0</td>\n",
       "      <td>0.000000</td>\n",
       "      <td>0.0</td>\n",
       "      <td>0.0</td>\n",
       "      <td>0.0</td>\n",
       "      <td>0.0</td>\n",
       "      <td>0.000000</td>\n",
       "      <td>0.0</td>\n",
       "      <td>0.0</td>\n",
       "      <td>0.000000</td>\n",
       "      <td>0.0</td>\n",
       "      <td>0.0</td>\n",
       "      <td>0.051835</td>\n",
       "    </tr>\n",
       "    <tr>\n",
       "      <th>1996</th>\n",
       "      <td>0.0</td>\n",
       "      <td>0.0</td>\n",
       "      <td>0.000000</td>\n",
       "      <td>0.0</td>\n",
       "      <td>0.0</td>\n",
       "      <td>0.0</td>\n",
       "      <td>0.0</td>\n",
       "      <td>0.000000</td>\n",
       "      <td>0.0</td>\n",
       "      <td>0.0</td>\n",
       "      <td>0.000000</td>\n",
       "      <td>0.0</td>\n",
       "      <td>0.0</td>\n",
       "      <td>0.000000</td>\n",
       "    </tr>\n",
       "    <tr>\n",
       "      <th>1997</th>\n",
       "      <td>0.0</td>\n",
       "      <td>0.0</td>\n",
       "      <td>0.000000</td>\n",
       "      <td>0.0</td>\n",
       "      <td>0.0</td>\n",
       "      <td>0.0</td>\n",
       "      <td>0.0</td>\n",
       "      <td>0.000000</td>\n",
       "      <td>0.0</td>\n",
       "      <td>0.0</td>\n",
       "      <td>0.000000</td>\n",
       "      <td>0.0</td>\n",
       "      <td>0.0</td>\n",
       "      <td>0.139090</td>\n",
       "    </tr>\n",
       "    <tr>\n",
       "      <th>1998</th>\n",
       "      <td>0.0</td>\n",
       "      <td>0.0</td>\n",
       "      <td>0.000000</td>\n",
       "      <td>0.0</td>\n",
       "      <td>0.0</td>\n",
       "      <td>0.0</td>\n",
       "      <td>0.0</td>\n",
       "      <td>0.000000</td>\n",
       "      <td>0.0</td>\n",
       "      <td>0.0</td>\n",
       "      <td>0.000000</td>\n",
       "      <td>0.0</td>\n",
       "      <td>0.0</td>\n",
       "      <td>0.000000</td>\n",
       "    </tr>\n",
       "    <tr>\n",
       "      <th>1999</th>\n",
       "      <td>0.0</td>\n",
       "      <td>0.0</td>\n",
       "      <td>0.093314</td>\n",
       "      <td>0.0</td>\n",
       "      <td>0.0</td>\n",
       "      <td>0.0</td>\n",
       "      <td>0.0</td>\n",
       "      <td>0.000000</td>\n",
       "      <td>0.0</td>\n",
       "      <td>0.0</td>\n",
       "      <td>0.000000</td>\n",
       "      <td>0.0</td>\n",
       "      <td>0.0</td>\n",
       "      <td>0.000000</td>\n",
       "    </tr>\n",
       "  </tbody>\n",
       "</table>\n",
       "<p>2000 rows × 14 columns</p>\n",
       "</div>"
      ],
      "text/plain": [
       "      آموز  ایثارگران        با   به  تجزیه  جانبازان  جوابگو        را  \\\n",
       "0      0.0        0.0  0.000000  0.0    0.0       0.0     0.0  0.000000   \n",
       "1      0.0        0.0  0.000000  0.0    0.0       0.0     0.0  0.000000   \n",
       "2      0.0        0.0  0.000000  0.0    0.0       0.0     0.0  0.000000   \n",
       "3      0.0        0.0  0.000000  0.0    0.0       0.0     0.0  0.000000   \n",
       "4      0.0        0.0  0.000000  0.0    0.0       0.0     0.0  0.124882   \n",
       "...    ...        ...       ...  ...    ...       ...     ...       ...   \n",
       "1995   0.0        0.0  0.000000  0.0    0.0       0.0     0.0  0.000000   \n",
       "1996   0.0        0.0  0.000000  0.0    0.0       0.0     0.0  0.000000   \n",
       "1997   0.0        0.0  0.000000  0.0    0.0       0.0     0.0  0.000000   \n",
       "1998   0.0        0.0  0.000000  0.0    0.0       0.0     0.0  0.000000   \n",
       "1999   0.0        0.0  0.093314  0.0    0.0       0.0     0.0  0.000000   \n",
       "\n",
       "      معلمان   نه      نیست  وزیر  پایان      کنید  \n",
       "0        0.0  0.0  0.000000   0.0    0.0  0.000000  \n",
       "1        0.0  0.0  0.000000   0.0    0.0  0.000000  \n",
       "2        0.0  0.0  0.162595   0.0    0.0  0.000000  \n",
       "3        0.0  0.0  0.000000   0.0    0.0  0.000000  \n",
       "4        0.0  0.0  0.000000   0.0    0.0  0.000000  \n",
       "...      ...  ...       ...   ...    ...       ...  \n",
       "1995     0.0  0.0  0.000000   0.0    0.0  0.051835  \n",
       "1996     0.0  0.0  0.000000   0.0    0.0  0.000000  \n",
       "1997     0.0  0.0  0.000000   0.0    0.0  0.139090  \n",
       "1998     0.0  0.0  0.000000   0.0    0.0  0.000000  \n",
       "1999     0.0  0.0  0.000000   0.0    0.0  0.000000  \n",
       "\n",
       "[2000 rows x 14 columns]"
      ]
     },
     "execution_count": 30,
     "metadata": {},
     "output_type": "execute_result"
    }
   ],
   "source": [
    "selected_df.loc[:,selected_df.columns.duplicated()]"
   ]
  },
  {
   "cell_type": "code",
   "execution_count": 31,
   "id": "595645fb",
   "metadata": {},
   "outputs": [],
   "source": [
    "d={'آموز':selected_df['آموز'].iloc[:,0] + selected_df['آموز'].iloc[:,1],\n",
    "   'ایثارگران':selected_df['ایثارگران'].iloc[:,0] + selected_df['ایثارگران'].iloc[:,1] ,\n",
    "    'با'     :selected_df['با'].iloc[:,0] + selected_df['با'].iloc[:,1] ,\n",
    "    'به'     :selected_df['به'].iloc[:,0] + selected_df['به'].iloc[:,1]    ,\n",
    "    'تجزیه'  :selected_df['تجزیه'].iloc[:,0] + selected_df['تجزیه'].iloc[:,1]   ,\n",
    "    'جانبازان':selected_df['جانبازان'].iloc[:,0] + selected_df['جانبازان'].iloc[:,1]  ,\n",
    "    'جوابگو'  :selected_df['جوابگو'].iloc[:,0] + selected_df['جوابگو'].iloc[:,1]  ,\n",
    "    'را'  :selected_df['را'].iloc[:,0] + selected_df['را'].iloc[:,1]    ,\n",
    "    'معلمان' : selected_df['معلمان'].iloc[:,0] + selected_df['معلمان'].iloc[:,1]  ,\n",
    "    'نه'     :selected_df['نه'].iloc[:,0] + selected_df['نه'].iloc[:,1]     ,\n",
    "    'نیست'   :selected_df['نیست'].iloc[:,0] + selected_df['نیست'].iloc[:,1]    ,\n",
    "    'کنید'   :selected_df['کنید'].iloc[:,0] + selected_df['کنید'].iloc[:,1]     ,\n",
    "    'وزیر'   :selected_df['وزیر'].iloc[:,0] + selected_df['وزیر'].iloc[:,1]   ,\n",
    "    'پایان'  :selected_df['پایان'].iloc[:,0] + selected_df['پایان'].iloc[:,1]  } "
   ]
  },
  {
   "cell_type": "code",
   "execution_count": 32,
   "id": "c55727ca",
   "metadata": {},
   "outputs": [],
   "source": [
    "combined_df=pd.DataFrame(data=d)"
   ]
  },
  {
   "cell_type": "code",
   "execution_count": 33,
   "id": "3411d3f4",
   "metadata": {},
   "outputs": [
    {
     "data": {
      "text/html": [
       "<div>\n",
       "<style scoped>\n",
       "    .dataframe tbody tr th:only-of-type {\n",
       "        vertical-align: middle;\n",
       "    }\n",
       "\n",
       "    .dataframe tbody tr th {\n",
       "        vertical-align: top;\n",
       "    }\n",
       "\n",
       "    .dataframe thead th {\n",
       "        text-align: right;\n",
       "    }\n",
       "</style>\n",
       "<table border=\"1\" class=\"dataframe\">\n",
       "  <thead>\n",
       "    <tr style=\"text-align: right;\">\n",
       "      <th></th>\n",
       "      <th>آموز</th>\n",
       "      <th>ایثارگران</th>\n",
       "      <th>با</th>\n",
       "      <th>به</th>\n",
       "      <th>تجزیه</th>\n",
       "      <th>جانبازان</th>\n",
       "      <th>جوابگو</th>\n",
       "      <th>را</th>\n",
       "      <th>معلمان</th>\n",
       "      <th>نه</th>\n",
       "      <th>نیست</th>\n",
       "      <th>کنید</th>\n",
       "      <th>وزیر</th>\n",
       "      <th>پایان</th>\n",
       "    </tr>\n",
       "  </thead>\n",
       "  <tbody>\n",
       "    <tr>\n",
       "      <th>0</th>\n",
       "      <td>0.0</td>\n",
       "      <td>0.0</td>\n",
       "      <td>0.000000</td>\n",
       "      <td>0.076681</td>\n",
       "      <td>0.0</td>\n",
       "      <td>0.0</td>\n",
       "      <td>0.0</td>\n",
       "      <td>0.000000</td>\n",
       "      <td>0.0</td>\n",
       "      <td>0.000000</td>\n",
       "      <td>0.000000</td>\n",
       "      <td>0.000000</td>\n",
       "      <td>0.0</td>\n",
       "      <td>0.0</td>\n",
       "    </tr>\n",
       "    <tr>\n",
       "      <th>1</th>\n",
       "      <td>0.0</td>\n",
       "      <td>0.0</td>\n",
       "      <td>0.000000</td>\n",
       "      <td>0.000000</td>\n",
       "      <td>0.0</td>\n",
       "      <td>0.0</td>\n",
       "      <td>0.0</td>\n",
       "      <td>0.000000</td>\n",
       "      <td>0.0</td>\n",
       "      <td>0.000000</td>\n",
       "      <td>0.000000</td>\n",
       "      <td>0.000000</td>\n",
       "      <td>0.0</td>\n",
       "      <td>0.0</td>\n",
       "    </tr>\n",
       "    <tr>\n",
       "      <th>2</th>\n",
       "      <td>0.0</td>\n",
       "      <td>0.0</td>\n",
       "      <td>0.000000</td>\n",
       "      <td>0.098981</td>\n",
       "      <td>0.0</td>\n",
       "      <td>0.0</td>\n",
       "      <td>0.0</td>\n",
       "      <td>0.000000</td>\n",
       "      <td>0.0</td>\n",
       "      <td>0.000000</td>\n",
       "      <td>0.162595</td>\n",
       "      <td>0.000000</td>\n",
       "      <td>0.0</td>\n",
       "      <td>0.0</td>\n",
       "    </tr>\n",
       "    <tr>\n",
       "      <th>3</th>\n",
       "      <td>0.0</td>\n",
       "      <td>0.0</td>\n",
       "      <td>0.000000</td>\n",
       "      <td>0.000000</td>\n",
       "      <td>0.0</td>\n",
       "      <td>0.0</td>\n",
       "      <td>0.0</td>\n",
       "      <td>0.000000</td>\n",
       "      <td>0.0</td>\n",
       "      <td>0.000000</td>\n",
       "      <td>0.000000</td>\n",
       "      <td>0.000000</td>\n",
       "      <td>0.0</td>\n",
       "      <td>0.0</td>\n",
       "    </tr>\n",
       "    <tr>\n",
       "      <th>4</th>\n",
       "      <td>0.0</td>\n",
       "      <td>0.0</td>\n",
       "      <td>0.000000</td>\n",
       "      <td>0.168007</td>\n",
       "      <td>0.0</td>\n",
       "      <td>0.0</td>\n",
       "      <td>0.0</td>\n",
       "      <td>0.124882</td>\n",
       "      <td>0.0</td>\n",
       "      <td>0.000000</td>\n",
       "      <td>0.000000</td>\n",
       "      <td>0.000000</td>\n",
       "      <td>0.0</td>\n",
       "      <td>0.0</td>\n",
       "    </tr>\n",
       "    <tr>\n",
       "      <th>...</th>\n",
       "      <td>...</td>\n",
       "      <td>...</td>\n",
       "      <td>...</td>\n",
       "      <td>...</td>\n",
       "      <td>...</td>\n",
       "      <td>...</td>\n",
       "      <td>...</td>\n",
       "      <td>...</td>\n",
       "      <td>...</td>\n",
       "      <td>...</td>\n",
       "      <td>...</td>\n",
       "      <td>...</td>\n",
       "      <td>...</td>\n",
       "      <td>...</td>\n",
       "    </tr>\n",
       "    <tr>\n",
       "      <th>1995</th>\n",
       "      <td>0.0</td>\n",
       "      <td>0.0</td>\n",
       "      <td>0.000000</td>\n",
       "      <td>0.073426</td>\n",
       "      <td>0.0</td>\n",
       "      <td>0.0</td>\n",
       "      <td>0.0</td>\n",
       "      <td>0.000000</td>\n",
       "      <td>0.0</td>\n",
       "      <td>0.000000</td>\n",
       "      <td>0.000000</td>\n",
       "      <td>0.051835</td>\n",
       "      <td>0.0</td>\n",
       "      <td>0.0</td>\n",
       "    </tr>\n",
       "    <tr>\n",
       "      <th>1996</th>\n",
       "      <td>0.0</td>\n",
       "      <td>0.0</td>\n",
       "      <td>0.000000</td>\n",
       "      <td>0.000000</td>\n",
       "      <td>0.0</td>\n",
       "      <td>0.0</td>\n",
       "      <td>0.0</td>\n",
       "      <td>0.000000</td>\n",
       "      <td>0.0</td>\n",
       "      <td>0.000000</td>\n",
       "      <td>0.000000</td>\n",
       "      <td>0.000000</td>\n",
       "      <td>0.0</td>\n",
       "      <td>0.0</td>\n",
       "    </tr>\n",
       "    <tr>\n",
       "      <th>1997</th>\n",
       "      <td>0.0</td>\n",
       "      <td>0.0</td>\n",
       "      <td>0.000000</td>\n",
       "      <td>0.000000</td>\n",
       "      <td>0.0</td>\n",
       "      <td>0.0</td>\n",
       "      <td>0.0</td>\n",
       "      <td>0.000000</td>\n",
       "      <td>0.0</td>\n",
       "      <td>0.158792</td>\n",
       "      <td>0.000000</td>\n",
       "      <td>0.139090</td>\n",
       "      <td>0.0</td>\n",
       "      <td>0.0</td>\n",
       "    </tr>\n",
       "    <tr>\n",
       "      <th>1998</th>\n",
       "      <td>0.0</td>\n",
       "      <td>0.0</td>\n",
       "      <td>0.000000</td>\n",
       "      <td>0.000000</td>\n",
       "      <td>0.0</td>\n",
       "      <td>0.0</td>\n",
       "      <td>0.0</td>\n",
       "      <td>0.000000</td>\n",
       "      <td>0.0</td>\n",
       "      <td>0.000000</td>\n",
       "      <td>0.000000</td>\n",
       "      <td>0.000000</td>\n",
       "      <td>0.0</td>\n",
       "      <td>0.0</td>\n",
       "    </tr>\n",
       "    <tr>\n",
       "      <th>1999</th>\n",
       "      <td>0.0</td>\n",
       "      <td>0.0</td>\n",
       "      <td>0.093314</td>\n",
       "      <td>0.000000</td>\n",
       "      <td>0.0</td>\n",
       "      <td>0.0</td>\n",
       "      <td>0.0</td>\n",
       "      <td>0.000000</td>\n",
       "      <td>0.0</td>\n",
       "      <td>0.000000</td>\n",
       "      <td>0.000000</td>\n",
       "      <td>0.000000</td>\n",
       "      <td>0.0</td>\n",
       "      <td>0.0</td>\n",
       "    </tr>\n",
       "  </tbody>\n",
       "</table>\n",
       "<p>2000 rows × 14 columns</p>\n",
       "</div>"
      ],
      "text/plain": [
       "      آموز  ایثارگران        با        به  تجزیه  جانبازان  جوابگو        را  \\\n",
       "0      0.0        0.0  0.000000  0.076681    0.0       0.0     0.0  0.000000   \n",
       "1      0.0        0.0  0.000000  0.000000    0.0       0.0     0.0  0.000000   \n",
       "2      0.0        0.0  0.000000  0.098981    0.0       0.0     0.0  0.000000   \n",
       "3      0.0        0.0  0.000000  0.000000    0.0       0.0     0.0  0.000000   \n",
       "4      0.0        0.0  0.000000  0.168007    0.0       0.0     0.0  0.124882   \n",
       "...    ...        ...       ...       ...    ...       ...     ...       ...   \n",
       "1995   0.0        0.0  0.000000  0.073426    0.0       0.0     0.0  0.000000   \n",
       "1996   0.0        0.0  0.000000  0.000000    0.0       0.0     0.0  0.000000   \n",
       "1997   0.0        0.0  0.000000  0.000000    0.0       0.0     0.0  0.000000   \n",
       "1998   0.0        0.0  0.000000  0.000000    0.0       0.0     0.0  0.000000   \n",
       "1999   0.0        0.0  0.093314  0.000000    0.0       0.0     0.0  0.000000   \n",
       "\n",
       "      معلمان        نه      نیست      کنید  وزیر  پایان  \n",
       "0        0.0  0.000000  0.000000  0.000000   0.0    0.0  \n",
       "1        0.0  0.000000  0.000000  0.000000   0.0    0.0  \n",
       "2        0.0  0.000000  0.162595  0.000000   0.0    0.0  \n",
       "3        0.0  0.000000  0.000000  0.000000   0.0    0.0  \n",
       "4        0.0  0.000000  0.000000  0.000000   0.0    0.0  \n",
       "...      ...       ...       ...       ...   ...    ...  \n",
       "1995     0.0  0.000000  0.000000  0.051835   0.0    0.0  \n",
       "1996     0.0  0.000000  0.000000  0.000000   0.0    0.0  \n",
       "1997     0.0  0.158792  0.000000  0.139090   0.0    0.0  \n",
       "1998     0.0  0.000000  0.000000  0.000000   0.0    0.0  \n",
       "1999     0.0  0.000000  0.000000  0.000000   0.0    0.0  \n",
       "\n",
       "[2000 rows x 14 columns]"
      ]
     },
     "execution_count": 33,
     "metadata": {},
     "output_type": "execute_result"
    }
   ],
   "source": [
    "combined_df"
   ]
  },
  {
   "cell_type": "code",
   "execution_count": 34,
   "id": "3918d0dd",
   "metadata": {},
   "outputs": [
    {
     "data": {
      "text/plain": [
       "Index(['آموز', 'ایثارگران', 'با', 'به', 'تجزیه', 'جانبازان', 'جوابگو', 'را',\n",
       "       'معلمان', 'نه', 'نیست', 'وزیر', 'پایان', 'کنید'],\n",
       "      dtype='object')"
      ]
     },
     "execution_count": 34,
     "metadata": {},
     "output_type": "execute_result"
    }
   ],
   "source": [
    "selected_df.loc[:,selected_df.columns.duplicated()].columns"
   ]
  },
  {
   "cell_type": "code",
   "execution_count": 35,
   "id": "616d27c2",
   "metadata": {},
   "outputs": [],
   "source": [
    "selected_df.drop(['آموز', 'ایثارگران', 'با', 'به', 'تجزیه', 'جانبازان', 'جوابگو',\n",
    "       'را', 'معلمان', 'نه', 'نیست', 'وزیر', 'پایان', 'کنید'],axis=1,inplace=True)"
   ]
  },
  {
   "cell_type": "code",
   "execution_count": 36,
   "id": "d9273c48",
   "metadata": {},
   "outputs": [
    {
     "data": {
      "text/plain": [
       "Index(['اقای لاشکی', 'داد کنکوریها برسید', 'طرحهای', 'قطعی معدل',\n",
       "       'مخالفان مصوبه تاثیر', 'وزات بهداشت پذیرش ندارد', 'پیمانی دانشجو', 'آب',\n",
       "       'آباد', 'آبادیه',\n",
       "       ...\n",
       "       '۷سال', '۷صب', '۷۸', '۸تا', '۸ماه', '۸۰', '۸۱', '۸۴۰۰۰', '۸۵', '۸۵۷۳'],\n",
       "      dtype='object', length=8281)"
      ]
     },
     "execution_count": 36,
     "metadata": {},
     "output_type": "execute_result"
    }
   ],
   "source": [
    "selected_df.columns"
   ]
  },
  {
   "cell_type": "code",
   "execution_count": 37,
   "id": "53f8312f",
   "metadata": {},
   "outputs": [],
   "source": [
    "final_df=pd.concat([selected_df,combined_df],axis=1)"
   ]
  },
  {
   "cell_type": "code",
   "execution_count": 38,
   "id": "5bf649e0",
   "metadata": {},
   "outputs": [
    {
     "data": {
      "text/html": [
       "<div>\n",
       "<style scoped>\n",
       "    .dataframe tbody tr th:only-of-type {\n",
       "        vertical-align: middle;\n",
       "    }\n",
       "\n",
       "    .dataframe tbody tr th {\n",
       "        vertical-align: top;\n",
       "    }\n",
       "\n",
       "    .dataframe thead th {\n",
       "        text-align: right;\n",
       "    }\n",
       "</style>\n",
       "<table border=\"1\" class=\"dataframe\">\n",
       "  <thead>\n",
       "    <tr style=\"text-align: right;\">\n",
       "      <th></th>\n",
       "      <th>اقای لاشکی</th>\n",
       "      <th>داد کنکوریها برسید</th>\n",
       "      <th>طرحهای</th>\n",
       "      <th>قطعی معدل</th>\n",
       "      <th>مخالفان مصوبه تاثیر</th>\n",
       "      <th>وزات بهداشت پذیرش ندارد</th>\n",
       "      <th>پیمانی دانشجو</th>\n",
       "      <th>آب</th>\n",
       "      <th>آباد</th>\n",
       "      <th>آبادیه</th>\n",
       "      <th>...</th>\n",
       "      <th>تجزیه</th>\n",
       "      <th>جانبازان</th>\n",
       "      <th>جوابگو</th>\n",
       "      <th>را</th>\n",
       "      <th>معلمان</th>\n",
       "      <th>نه</th>\n",
       "      <th>نیست</th>\n",
       "      <th>کنید</th>\n",
       "      <th>وزیر</th>\n",
       "      <th>پایان</th>\n",
       "    </tr>\n",
       "  </thead>\n",
       "  <tbody>\n",
       "    <tr>\n",
       "      <th>0</th>\n",
       "      <td>0.0</td>\n",
       "      <td>0.0</td>\n",
       "      <td>0.0</td>\n",
       "      <td>0.0</td>\n",
       "      <td>0.0</td>\n",
       "      <td>0.0</td>\n",
       "      <td>0.0</td>\n",
       "      <td>0.0</td>\n",
       "      <td>0.0</td>\n",
       "      <td>0.0</td>\n",
       "      <td>...</td>\n",
       "      <td>0.0</td>\n",
       "      <td>0.0</td>\n",
       "      <td>0.0</td>\n",
       "      <td>0.000000</td>\n",
       "      <td>0.0</td>\n",
       "      <td>0.000000</td>\n",
       "      <td>0.000000</td>\n",
       "      <td>0.000000</td>\n",
       "      <td>0.0</td>\n",
       "      <td>0.0</td>\n",
       "    </tr>\n",
       "    <tr>\n",
       "      <th>1</th>\n",
       "      <td>0.0</td>\n",
       "      <td>0.0</td>\n",
       "      <td>0.0</td>\n",
       "      <td>0.0</td>\n",
       "      <td>0.0</td>\n",
       "      <td>0.0</td>\n",
       "      <td>0.0</td>\n",
       "      <td>0.0</td>\n",
       "      <td>0.0</td>\n",
       "      <td>0.0</td>\n",
       "      <td>...</td>\n",
       "      <td>0.0</td>\n",
       "      <td>0.0</td>\n",
       "      <td>0.0</td>\n",
       "      <td>0.000000</td>\n",
       "      <td>0.0</td>\n",
       "      <td>0.000000</td>\n",
       "      <td>0.000000</td>\n",
       "      <td>0.000000</td>\n",
       "      <td>0.0</td>\n",
       "      <td>0.0</td>\n",
       "    </tr>\n",
       "    <tr>\n",
       "      <th>2</th>\n",
       "      <td>0.0</td>\n",
       "      <td>0.0</td>\n",
       "      <td>0.0</td>\n",
       "      <td>0.0</td>\n",
       "      <td>0.0</td>\n",
       "      <td>0.0</td>\n",
       "      <td>0.0</td>\n",
       "      <td>0.0</td>\n",
       "      <td>0.0</td>\n",
       "      <td>0.0</td>\n",
       "      <td>...</td>\n",
       "      <td>0.0</td>\n",
       "      <td>0.0</td>\n",
       "      <td>0.0</td>\n",
       "      <td>0.000000</td>\n",
       "      <td>0.0</td>\n",
       "      <td>0.000000</td>\n",
       "      <td>0.162595</td>\n",
       "      <td>0.000000</td>\n",
       "      <td>0.0</td>\n",
       "      <td>0.0</td>\n",
       "    </tr>\n",
       "    <tr>\n",
       "      <th>3</th>\n",
       "      <td>0.0</td>\n",
       "      <td>0.0</td>\n",
       "      <td>0.0</td>\n",
       "      <td>0.0</td>\n",
       "      <td>0.0</td>\n",
       "      <td>0.0</td>\n",
       "      <td>0.0</td>\n",
       "      <td>0.0</td>\n",
       "      <td>0.0</td>\n",
       "      <td>0.0</td>\n",
       "      <td>...</td>\n",
       "      <td>0.0</td>\n",
       "      <td>0.0</td>\n",
       "      <td>0.0</td>\n",
       "      <td>0.000000</td>\n",
       "      <td>0.0</td>\n",
       "      <td>0.000000</td>\n",
       "      <td>0.000000</td>\n",
       "      <td>0.000000</td>\n",
       "      <td>0.0</td>\n",
       "      <td>0.0</td>\n",
       "    </tr>\n",
       "    <tr>\n",
       "      <th>4</th>\n",
       "      <td>0.0</td>\n",
       "      <td>0.0</td>\n",
       "      <td>0.0</td>\n",
       "      <td>0.0</td>\n",
       "      <td>0.0</td>\n",
       "      <td>0.0</td>\n",
       "      <td>0.0</td>\n",
       "      <td>0.0</td>\n",
       "      <td>0.0</td>\n",
       "      <td>0.0</td>\n",
       "      <td>...</td>\n",
       "      <td>0.0</td>\n",
       "      <td>0.0</td>\n",
       "      <td>0.0</td>\n",
       "      <td>0.124882</td>\n",
       "      <td>0.0</td>\n",
       "      <td>0.000000</td>\n",
       "      <td>0.000000</td>\n",
       "      <td>0.000000</td>\n",
       "      <td>0.0</td>\n",
       "      <td>0.0</td>\n",
       "    </tr>\n",
       "    <tr>\n",
       "      <th>...</th>\n",
       "      <td>...</td>\n",
       "      <td>...</td>\n",
       "      <td>...</td>\n",
       "      <td>...</td>\n",
       "      <td>...</td>\n",
       "      <td>...</td>\n",
       "      <td>...</td>\n",
       "      <td>...</td>\n",
       "      <td>...</td>\n",
       "      <td>...</td>\n",
       "      <td>...</td>\n",
       "      <td>...</td>\n",
       "      <td>...</td>\n",
       "      <td>...</td>\n",
       "      <td>...</td>\n",
       "      <td>...</td>\n",
       "      <td>...</td>\n",
       "      <td>...</td>\n",
       "      <td>...</td>\n",
       "      <td>...</td>\n",
       "      <td>...</td>\n",
       "    </tr>\n",
       "    <tr>\n",
       "      <th>1995</th>\n",
       "      <td>0.0</td>\n",
       "      <td>0.0</td>\n",
       "      <td>0.0</td>\n",
       "      <td>0.0</td>\n",
       "      <td>0.0</td>\n",
       "      <td>0.0</td>\n",
       "      <td>0.0</td>\n",
       "      <td>0.0</td>\n",
       "      <td>0.0</td>\n",
       "      <td>0.0</td>\n",
       "      <td>...</td>\n",
       "      <td>0.0</td>\n",
       "      <td>0.0</td>\n",
       "      <td>0.0</td>\n",
       "      <td>0.000000</td>\n",
       "      <td>0.0</td>\n",
       "      <td>0.000000</td>\n",
       "      <td>0.000000</td>\n",
       "      <td>0.051835</td>\n",
       "      <td>0.0</td>\n",
       "      <td>0.0</td>\n",
       "    </tr>\n",
       "    <tr>\n",
       "      <th>1996</th>\n",
       "      <td>0.0</td>\n",
       "      <td>0.0</td>\n",
       "      <td>0.0</td>\n",
       "      <td>0.0</td>\n",
       "      <td>0.0</td>\n",
       "      <td>0.0</td>\n",
       "      <td>0.0</td>\n",
       "      <td>0.0</td>\n",
       "      <td>0.0</td>\n",
       "      <td>0.0</td>\n",
       "      <td>...</td>\n",
       "      <td>0.0</td>\n",
       "      <td>0.0</td>\n",
       "      <td>0.0</td>\n",
       "      <td>0.000000</td>\n",
       "      <td>0.0</td>\n",
       "      <td>0.000000</td>\n",
       "      <td>0.000000</td>\n",
       "      <td>0.000000</td>\n",
       "      <td>0.0</td>\n",
       "      <td>0.0</td>\n",
       "    </tr>\n",
       "    <tr>\n",
       "      <th>1997</th>\n",
       "      <td>0.0</td>\n",
       "      <td>0.0</td>\n",
       "      <td>0.0</td>\n",
       "      <td>0.0</td>\n",
       "      <td>0.0</td>\n",
       "      <td>0.0</td>\n",
       "      <td>0.0</td>\n",
       "      <td>0.0</td>\n",
       "      <td>0.0</td>\n",
       "      <td>0.0</td>\n",
       "      <td>...</td>\n",
       "      <td>0.0</td>\n",
       "      <td>0.0</td>\n",
       "      <td>0.0</td>\n",
       "      <td>0.000000</td>\n",
       "      <td>0.0</td>\n",
       "      <td>0.158792</td>\n",
       "      <td>0.000000</td>\n",
       "      <td>0.139090</td>\n",
       "      <td>0.0</td>\n",
       "      <td>0.0</td>\n",
       "    </tr>\n",
       "    <tr>\n",
       "      <th>1998</th>\n",
       "      <td>0.0</td>\n",
       "      <td>0.0</td>\n",
       "      <td>0.0</td>\n",
       "      <td>0.0</td>\n",
       "      <td>0.0</td>\n",
       "      <td>0.0</td>\n",
       "      <td>0.0</td>\n",
       "      <td>0.0</td>\n",
       "      <td>0.0</td>\n",
       "      <td>0.0</td>\n",
       "      <td>...</td>\n",
       "      <td>0.0</td>\n",
       "      <td>0.0</td>\n",
       "      <td>0.0</td>\n",
       "      <td>0.000000</td>\n",
       "      <td>0.0</td>\n",
       "      <td>0.000000</td>\n",
       "      <td>0.000000</td>\n",
       "      <td>0.000000</td>\n",
       "      <td>0.0</td>\n",
       "      <td>0.0</td>\n",
       "    </tr>\n",
       "    <tr>\n",
       "      <th>1999</th>\n",
       "      <td>0.0</td>\n",
       "      <td>0.0</td>\n",
       "      <td>0.0</td>\n",
       "      <td>0.0</td>\n",
       "      <td>0.0</td>\n",
       "      <td>0.0</td>\n",
       "      <td>0.0</td>\n",
       "      <td>0.0</td>\n",
       "      <td>0.0</td>\n",
       "      <td>0.0</td>\n",
       "      <td>...</td>\n",
       "      <td>0.0</td>\n",
       "      <td>0.0</td>\n",
       "      <td>0.0</td>\n",
       "      <td>0.000000</td>\n",
       "      <td>0.0</td>\n",
       "      <td>0.000000</td>\n",
       "      <td>0.000000</td>\n",
       "      <td>0.000000</td>\n",
       "      <td>0.0</td>\n",
       "      <td>0.0</td>\n",
       "    </tr>\n",
       "  </tbody>\n",
       "</table>\n",
       "<p>2000 rows × 8295 columns</p>\n",
       "</div>"
      ],
      "text/plain": [
       "      اقای لاشکی  داد کنکوریها برسید  طرحهای  قطعی معدل  مخالفان مصوبه تاثیر  \\\n",
       "0            0.0                 0.0     0.0        0.0                  0.0   \n",
       "1            0.0                 0.0     0.0        0.0                  0.0   \n",
       "2            0.0                 0.0     0.0        0.0                  0.0   \n",
       "3            0.0                 0.0     0.0        0.0                  0.0   \n",
       "4            0.0                 0.0     0.0        0.0                  0.0   \n",
       "...          ...                 ...     ...        ...                  ...   \n",
       "1995         0.0                 0.0     0.0        0.0                  0.0   \n",
       "1996         0.0                 0.0     0.0        0.0                  0.0   \n",
       "1997         0.0                 0.0     0.0        0.0                  0.0   \n",
       "1998         0.0                 0.0     0.0        0.0                  0.0   \n",
       "1999         0.0                 0.0     0.0        0.0                  0.0   \n",
       "\n",
       "      وزات بهداشت پذیرش ندارد  پیمانی دانشجو   آب  آباد  آبادیه  ...  تجزیه  \\\n",
       "0                         0.0            0.0  0.0   0.0     0.0  ...    0.0   \n",
       "1                         0.0            0.0  0.0   0.0     0.0  ...    0.0   \n",
       "2                         0.0            0.0  0.0   0.0     0.0  ...    0.0   \n",
       "3                         0.0            0.0  0.0   0.0     0.0  ...    0.0   \n",
       "4                         0.0            0.0  0.0   0.0     0.0  ...    0.0   \n",
       "...                       ...            ...  ...   ...     ...  ...    ...   \n",
       "1995                      0.0            0.0  0.0   0.0     0.0  ...    0.0   \n",
       "1996                      0.0            0.0  0.0   0.0     0.0  ...    0.0   \n",
       "1997                      0.0            0.0  0.0   0.0     0.0  ...    0.0   \n",
       "1998                      0.0            0.0  0.0   0.0     0.0  ...    0.0   \n",
       "1999                      0.0            0.0  0.0   0.0     0.0  ...    0.0   \n",
       "\n",
       "      جانبازان  جوابگو        را  معلمان        نه      نیست      کنید  وزیر  \\\n",
       "0          0.0     0.0  0.000000     0.0  0.000000  0.000000  0.000000   0.0   \n",
       "1          0.0     0.0  0.000000     0.0  0.000000  0.000000  0.000000   0.0   \n",
       "2          0.0     0.0  0.000000     0.0  0.000000  0.162595  0.000000   0.0   \n",
       "3          0.0     0.0  0.000000     0.0  0.000000  0.000000  0.000000   0.0   \n",
       "4          0.0     0.0  0.124882     0.0  0.000000  0.000000  0.000000   0.0   \n",
       "...        ...     ...       ...     ...       ...       ...       ...   ...   \n",
       "1995       0.0     0.0  0.000000     0.0  0.000000  0.000000  0.051835   0.0   \n",
       "1996       0.0     0.0  0.000000     0.0  0.000000  0.000000  0.000000   0.0   \n",
       "1997       0.0     0.0  0.000000     0.0  0.158792  0.000000  0.139090   0.0   \n",
       "1998       0.0     0.0  0.000000     0.0  0.000000  0.000000  0.000000   0.0   \n",
       "1999       0.0     0.0  0.000000     0.0  0.000000  0.000000  0.000000   0.0   \n",
       "\n",
       "      پایان  \n",
       "0       0.0  \n",
       "1       0.0  \n",
       "2       0.0  \n",
       "3       0.0  \n",
       "4       0.0  \n",
       "...     ...  \n",
       "1995    0.0  \n",
       "1996    0.0  \n",
       "1997    0.0  \n",
       "1998    0.0  \n",
       "1999    0.0  \n",
       "\n",
       "[2000 rows x 8295 columns]"
      ]
     },
     "execution_count": 38,
     "metadata": {},
     "output_type": "execute_result"
    }
   ],
   "source": [
    "final_df"
   ]
  },
  {
   "cell_type": "code",
   "execution_count": 39,
   "id": "3c44a995",
   "metadata": {},
   "outputs": [],
   "source": [
    "sum=dict()"
   ]
  },
  {
   "cell_type": "code",
   "execution_count": 40,
   "id": "3583c4c2",
   "metadata": {},
   "outputs": [],
   "source": [
    "for i in final_df.columns:\n",
    "    sum[i]=final_df[i].sum()\n",
    "    # final_df.iloc[2000] =final_df[i].sum()"
   ]
  },
  {
   "cell_type": "code",
   "execution_count": 41,
   "id": "cebc396d",
   "metadata": {},
   "outputs": [
    {
     "name": "stderr",
     "output_type": "stream",
     "text": [
      "C:\\Users\\Lenovo\\AppData\\Local\\Temp\\ipykernel_8740\\4118834838.py:1: FutureWarning: The frame.append method is deprecated and will be removed from pandas in a future version. Use pandas.concat instead.\n",
      "  final_df=final_df.append(sum,ignore_index = True)\n"
     ]
    }
   ],
   "source": [
    "final_df=final_df.append(sum,ignore_index = True)"
   ]
  },
  {
   "cell_type": "code",
   "execution_count": 42,
   "id": "106ee10a",
   "metadata": {},
   "outputs": [
    {
     "data": {
      "text/html": [
       "<div>\n",
       "<style scoped>\n",
       "    .dataframe tbody tr th:only-of-type {\n",
       "        vertical-align: middle;\n",
       "    }\n",
       "\n",
       "    .dataframe tbody tr th {\n",
       "        vertical-align: top;\n",
       "    }\n",
       "\n",
       "    .dataframe thead th {\n",
       "        text-align: right;\n",
       "    }\n",
       "</style>\n",
       "<table border=\"1\" class=\"dataframe\">\n",
       "  <thead>\n",
       "    <tr style=\"text-align: right;\">\n",
       "      <th></th>\n",
       "      <th>اقای لاشکی</th>\n",
       "      <th>داد کنکوریها برسید</th>\n",
       "      <th>طرحهای</th>\n",
       "      <th>قطعی معدل</th>\n",
       "      <th>مخالفان مصوبه تاثیر</th>\n",
       "      <th>وزات بهداشت پذیرش ندارد</th>\n",
       "      <th>پیمانی دانشجو</th>\n",
       "      <th>آب</th>\n",
       "      <th>آباد</th>\n",
       "      <th>آبادیه</th>\n",
       "      <th>...</th>\n",
       "      <th>تجزیه</th>\n",
       "      <th>جانبازان</th>\n",
       "      <th>جوابگو</th>\n",
       "      <th>را</th>\n",
       "      <th>معلمان</th>\n",
       "      <th>نه</th>\n",
       "      <th>نیست</th>\n",
       "      <th>کنید</th>\n",
       "      <th>وزیر</th>\n",
       "      <th>پایان</th>\n",
       "    </tr>\n",
       "  </thead>\n",
       "  <tbody>\n",
       "    <tr>\n",
       "      <th>0</th>\n",
       "      <td>0.000000</td>\n",
       "      <td>0.000000</td>\n",
       "      <td>0.00000</td>\n",
       "      <td>0.000000</td>\n",
       "      <td>0.000000</td>\n",
       "      <td>0.000000</td>\n",
       "      <td>0.000000</td>\n",
       "      <td>0.000000</td>\n",
       "      <td>0.000000</td>\n",
       "      <td>0.000000</td>\n",
       "      <td>...</td>\n",
       "      <td>0.000000</td>\n",
       "      <td>0.00000</td>\n",
       "      <td>0.000000</td>\n",
       "      <td>0.000000</td>\n",
       "      <td>0.000000</td>\n",
       "      <td>0.000000</td>\n",
       "      <td>0.000000</td>\n",
       "      <td>0.000000</td>\n",
       "      <td>0.000000</td>\n",
       "      <td>0.000000</td>\n",
       "    </tr>\n",
       "    <tr>\n",
       "      <th>1</th>\n",
       "      <td>0.000000</td>\n",
       "      <td>0.000000</td>\n",
       "      <td>0.00000</td>\n",
       "      <td>0.000000</td>\n",
       "      <td>0.000000</td>\n",
       "      <td>0.000000</td>\n",
       "      <td>0.000000</td>\n",
       "      <td>0.000000</td>\n",
       "      <td>0.000000</td>\n",
       "      <td>0.000000</td>\n",
       "      <td>...</td>\n",
       "      <td>0.000000</td>\n",
       "      <td>0.00000</td>\n",
       "      <td>0.000000</td>\n",
       "      <td>0.000000</td>\n",
       "      <td>0.000000</td>\n",
       "      <td>0.000000</td>\n",
       "      <td>0.000000</td>\n",
       "      <td>0.000000</td>\n",
       "      <td>0.000000</td>\n",
       "      <td>0.000000</td>\n",
       "    </tr>\n",
       "    <tr>\n",
       "      <th>2</th>\n",
       "      <td>0.000000</td>\n",
       "      <td>0.000000</td>\n",
       "      <td>0.00000</td>\n",
       "      <td>0.000000</td>\n",
       "      <td>0.000000</td>\n",
       "      <td>0.000000</td>\n",
       "      <td>0.000000</td>\n",
       "      <td>0.000000</td>\n",
       "      <td>0.000000</td>\n",
       "      <td>0.000000</td>\n",
       "      <td>...</td>\n",
       "      <td>0.000000</td>\n",
       "      <td>0.00000</td>\n",
       "      <td>0.000000</td>\n",
       "      <td>0.000000</td>\n",
       "      <td>0.000000</td>\n",
       "      <td>0.000000</td>\n",
       "      <td>0.162595</td>\n",
       "      <td>0.000000</td>\n",
       "      <td>0.000000</td>\n",
       "      <td>0.000000</td>\n",
       "    </tr>\n",
       "    <tr>\n",
       "      <th>3</th>\n",
       "      <td>0.000000</td>\n",
       "      <td>0.000000</td>\n",
       "      <td>0.00000</td>\n",
       "      <td>0.000000</td>\n",
       "      <td>0.000000</td>\n",
       "      <td>0.000000</td>\n",
       "      <td>0.000000</td>\n",
       "      <td>0.000000</td>\n",
       "      <td>0.000000</td>\n",
       "      <td>0.000000</td>\n",
       "      <td>...</td>\n",
       "      <td>0.000000</td>\n",
       "      <td>0.00000</td>\n",
       "      <td>0.000000</td>\n",
       "      <td>0.000000</td>\n",
       "      <td>0.000000</td>\n",
       "      <td>0.000000</td>\n",
       "      <td>0.000000</td>\n",
       "      <td>0.000000</td>\n",
       "      <td>0.000000</td>\n",
       "      <td>0.000000</td>\n",
       "    </tr>\n",
       "    <tr>\n",
       "      <th>4</th>\n",
       "      <td>0.000000</td>\n",
       "      <td>0.000000</td>\n",
       "      <td>0.00000</td>\n",
       "      <td>0.000000</td>\n",
       "      <td>0.000000</td>\n",
       "      <td>0.000000</td>\n",
       "      <td>0.000000</td>\n",
       "      <td>0.000000</td>\n",
       "      <td>0.000000</td>\n",
       "      <td>0.000000</td>\n",
       "      <td>...</td>\n",
       "      <td>0.000000</td>\n",
       "      <td>0.00000</td>\n",
       "      <td>0.000000</td>\n",
       "      <td>0.124882</td>\n",
       "      <td>0.000000</td>\n",
       "      <td>0.000000</td>\n",
       "      <td>0.000000</td>\n",
       "      <td>0.000000</td>\n",
       "      <td>0.000000</td>\n",
       "      <td>0.000000</td>\n",
       "    </tr>\n",
       "    <tr>\n",
       "      <th>...</th>\n",
       "      <td>...</td>\n",
       "      <td>...</td>\n",
       "      <td>...</td>\n",
       "      <td>...</td>\n",
       "      <td>...</td>\n",
       "      <td>...</td>\n",
       "      <td>...</td>\n",
       "      <td>...</td>\n",
       "      <td>...</td>\n",
       "      <td>...</td>\n",
       "      <td>...</td>\n",
       "      <td>...</td>\n",
       "      <td>...</td>\n",
       "      <td>...</td>\n",
       "      <td>...</td>\n",
       "      <td>...</td>\n",
       "      <td>...</td>\n",
       "      <td>...</td>\n",
       "      <td>...</td>\n",
       "      <td>...</td>\n",
       "      <td>...</td>\n",
       "    </tr>\n",
       "    <tr>\n",
       "      <th>1996</th>\n",
       "      <td>0.000000</td>\n",
       "      <td>0.000000</td>\n",
       "      <td>0.00000</td>\n",
       "      <td>0.000000</td>\n",
       "      <td>0.000000</td>\n",
       "      <td>0.000000</td>\n",
       "      <td>0.000000</td>\n",
       "      <td>0.000000</td>\n",
       "      <td>0.000000</td>\n",
       "      <td>0.000000</td>\n",
       "      <td>...</td>\n",
       "      <td>0.000000</td>\n",
       "      <td>0.00000</td>\n",
       "      <td>0.000000</td>\n",
       "      <td>0.000000</td>\n",
       "      <td>0.000000</td>\n",
       "      <td>0.000000</td>\n",
       "      <td>0.000000</td>\n",
       "      <td>0.000000</td>\n",
       "      <td>0.000000</td>\n",
       "      <td>0.000000</td>\n",
       "    </tr>\n",
       "    <tr>\n",
       "      <th>1997</th>\n",
       "      <td>0.000000</td>\n",
       "      <td>0.000000</td>\n",
       "      <td>0.00000</td>\n",
       "      <td>0.000000</td>\n",
       "      <td>0.000000</td>\n",
       "      <td>0.000000</td>\n",
       "      <td>0.000000</td>\n",
       "      <td>0.000000</td>\n",
       "      <td>0.000000</td>\n",
       "      <td>0.000000</td>\n",
       "      <td>...</td>\n",
       "      <td>0.000000</td>\n",
       "      <td>0.00000</td>\n",
       "      <td>0.000000</td>\n",
       "      <td>0.000000</td>\n",
       "      <td>0.000000</td>\n",
       "      <td>0.158792</td>\n",
       "      <td>0.000000</td>\n",
       "      <td>0.139090</td>\n",
       "      <td>0.000000</td>\n",
       "      <td>0.000000</td>\n",
       "    </tr>\n",
       "    <tr>\n",
       "      <th>1998</th>\n",
       "      <td>0.000000</td>\n",
       "      <td>0.000000</td>\n",
       "      <td>0.00000</td>\n",
       "      <td>0.000000</td>\n",
       "      <td>0.000000</td>\n",
       "      <td>0.000000</td>\n",
       "      <td>0.000000</td>\n",
       "      <td>0.000000</td>\n",
       "      <td>0.000000</td>\n",
       "      <td>0.000000</td>\n",
       "      <td>...</td>\n",
       "      <td>0.000000</td>\n",
       "      <td>0.00000</td>\n",
       "      <td>0.000000</td>\n",
       "      <td>0.000000</td>\n",
       "      <td>0.000000</td>\n",
       "      <td>0.000000</td>\n",
       "      <td>0.000000</td>\n",
       "      <td>0.000000</td>\n",
       "      <td>0.000000</td>\n",
       "      <td>0.000000</td>\n",
       "    </tr>\n",
       "    <tr>\n",
       "      <th>1999</th>\n",
       "      <td>0.000000</td>\n",
       "      <td>0.000000</td>\n",
       "      <td>0.00000</td>\n",
       "      <td>0.000000</td>\n",
       "      <td>0.000000</td>\n",
       "      <td>0.000000</td>\n",
       "      <td>0.000000</td>\n",
       "      <td>0.000000</td>\n",
       "      <td>0.000000</td>\n",
       "      <td>0.000000</td>\n",
       "      <td>...</td>\n",
       "      <td>0.000000</td>\n",
       "      <td>0.00000</td>\n",
       "      <td>0.000000</td>\n",
       "      <td>0.000000</td>\n",
       "      <td>0.000000</td>\n",
       "      <td>0.000000</td>\n",
       "      <td>0.000000</td>\n",
       "      <td>0.000000</td>\n",
       "      <td>0.000000</td>\n",
       "      <td>0.000000</td>\n",
       "    </tr>\n",
       "    <tr>\n",
       "      <th>2000</th>\n",
       "      <td>0.322749</td>\n",
       "      <td>0.959833</td>\n",
       "      <td>0.27279</td>\n",
       "      <td>0.408248</td>\n",
       "      <td>0.408248</td>\n",
       "      <td>0.178464</td>\n",
       "      <td>0.583029</td>\n",
       "      <td>3.029779</td>\n",
       "      <td>1.232591</td>\n",
       "      <td>0.082469</td>\n",
       "      <td>...</td>\n",
       "      <td>1.223832</td>\n",
       "      <td>1.17877</td>\n",
       "      <td>5.461879</td>\n",
       "      <td>27.485618</td>\n",
       "      <td>3.632332</td>\n",
       "      <td>27.751204</td>\n",
       "      <td>19.428977</td>\n",
       "      <td>27.897226</td>\n",
       "      <td>15.084587</td>\n",
       "      <td>1.756954</td>\n",
       "    </tr>\n",
       "  </tbody>\n",
       "</table>\n",
       "<p>2001 rows × 8295 columns</p>\n",
       "</div>"
      ],
      "text/plain": [
       "      اقای لاشکی  داد کنکوریها برسید   طرحهای  قطعی معدل  مخالفان مصوبه تاثیر  \\\n",
       "0       0.000000            0.000000  0.00000   0.000000             0.000000   \n",
       "1       0.000000            0.000000  0.00000   0.000000             0.000000   \n",
       "2       0.000000            0.000000  0.00000   0.000000             0.000000   \n",
       "3       0.000000            0.000000  0.00000   0.000000             0.000000   \n",
       "4       0.000000            0.000000  0.00000   0.000000             0.000000   \n",
       "...          ...                 ...      ...        ...                  ...   \n",
       "1996    0.000000            0.000000  0.00000   0.000000             0.000000   \n",
       "1997    0.000000            0.000000  0.00000   0.000000             0.000000   \n",
       "1998    0.000000            0.000000  0.00000   0.000000             0.000000   \n",
       "1999    0.000000            0.000000  0.00000   0.000000             0.000000   \n",
       "2000    0.322749            0.959833  0.27279   0.408248             0.408248   \n",
       "\n",
       "      وزات بهداشت پذیرش ندارد  پیمانی دانشجو        آب      آباد    آبادیه  \\\n",
       "0                    0.000000       0.000000  0.000000  0.000000  0.000000   \n",
       "1                    0.000000       0.000000  0.000000  0.000000  0.000000   \n",
       "2                    0.000000       0.000000  0.000000  0.000000  0.000000   \n",
       "3                    0.000000       0.000000  0.000000  0.000000  0.000000   \n",
       "4                    0.000000       0.000000  0.000000  0.000000  0.000000   \n",
       "...                       ...            ...       ...       ...       ...   \n",
       "1996                 0.000000       0.000000  0.000000  0.000000  0.000000   \n",
       "1997                 0.000000       0.000000  0.000000  0.000000  0.000000   \n",
       "1998                 0.000000       0.000000  0.000000  0.000000  0.000000   \n",
       "1999                 0.000000       0.000000  0.000000  0.000000  0.000000   \n",
       "2000                 0.178464       0.583029  3.029779  1.232591  0.082469   \n",
       "\n",
       "      ...     تجزیه  جانبازان    جوابگو         را    معلمان         نه  \\\n",
       "0     ...  0.000000   0.00000  0.000000   0.000000  0.000000   0.000000   \n",
       "1     ...  0.000000   0.00000  0.000000   0.000000  0.000000   0.000000   \n",
       "2     ...  0.000000   0.00000  0.000000   0.000000  0.000000   0.000000   \n",
       "3     ...  0.000000   0.00000  0.000000   0.000000  0.000000   0.000000   \n",
       "4     ...  0.000000   0.00000  0.000000   0.124882  0.000000   0.000000   \n",
       "...   ...       ...       ...       ...        ...       ...        ...   \n",
       "1996  ...  0.000000   0.00000  0.000000   0.000000  0.000000   0.000000   \n",
       "1997  ...  0.000000   0.00000  0.000000   0.000000  0.000000   0.158792   \n",
       "1998  ...  0.000000   0.00000  0.000000   0.000000  0.000000   0.000000   \n",
       "1999  ...  0.000000   0.00000  0.000000   0.000000  0.000000   0.000000   \n",
       "2000  ...  1.223832   1.17877  5.461879  27.485618  3.632332  27.751204   \n",
       "\n",
       "           نیست       کنید       وزیر     پایان  \n",
       "0      0.000000   0.000000   0.000000  0.000000  \n",
       "1      0.000000   0.000000   0.000000  0.000000  \n",
       "2      0.162595   0.000000   0.000000  0.000000  \n",
       "3      0.000000   0.000000   0.000000  0.000000  \n",
       "4      0.000000   0.000000   0.000000  0.000000  \n",
       "...         ...        ...        ...       ...  \n",
       "1996   0.000000   0.000000   0.000000  0.000000  \n",
       "1997   0.000000   0.139090   0.000000  0.000000  \n",
       "1998   0.000000   0.000000   0.000000  0.000000  \n",
       "1999   0.000000   0.000000   0.000000  0.000000  \n",
       "2000  19.428977  27.897226  15.084587  1.756954  \n",
       "\n",
       "[2001 rows x 8295 columns]"
      ]
     },
     "execution_count": 42,
     "metadata": {},
     "output_type": "execute_result"
    }
   ],
   "source": [
    "final_df"
   ]
  },
  {
   "cell_type": "code",
   "execution_count": 43,
   "id": "af13329f",
   "metadata": {},
   "outputs": [],
   "source": [
    "total_row=final_df.iloc[2000]"
   ]
  },
  {
   "cell_type": "code",
   "execution_count": 44,
   "id": "bcb8b41f",
   "metadata": {},
   "outputs": [],
   "source": [
    "x=np.where(total_row>7)[0]"
   ]
  },
  {
   "cell_type": "code",
   "execution_count": 45,
   "id": "3fd5f738",
   "metadata": {},
   "outputs": [],
   "source": [
    "stop_word=final_df.iloc[:,x]"
   ]
  },
  {
   "cell_type": "code",
   "execution_count": 46,
   "id": "123f7263",
   "metadata": {},
   "outputs": [],
   "source": [
    "def func(x):\n",
    "    sen=x.split(' ')\n",
    "    for i in stop_word.columns:\n",
    "        newtext = [j for j in sen if j not in i]\n",
    "        sen=newtext\n",
    "    return \" \".join(sen)  "
   ]
  },
  {
   "cell_type": "code",
   "execution_count": 47,
   "id": "cf759fcf",
   "metadata": {},
   "outputs": [
    {
     "name": "stderr",
     "output_type": "stream",
     "text": [
      "C:\\Users\\Lenovo\\AppData\\Local\\Temp\\ipykernel_8740\\161937315.py:1: SettingWithCopyWarning: \n",
      "A value is trying to be set on a copy of a slice from a DataFrame.\n",
      "Try using .loc[row_indexer,col_indexer] = value instead\n",
      "\n",
      "See the caveats in the documentation: https://pandas.pydata.org/pandas-docs/stable/user_guide/indexing.html#returning-a-view-versus-a-copy\n",
      "  df2['comment']=df2['comment'].apply(lambda x:func(x))\n"
     ]
    }
   ],
   "source": [
    "df2['comment']=df2['comment'].apply(lambda x:func(x))"
   ]
  },
  {
   "cell_type": "code",
   "execution_count": 48,
   "id": "5768b05f",
   "metadata": {},
   "outputs": [
    {
     "data": {
      "text/plain": [
       "0       هفته ۲ بچهام پسر لحظه دنیا اومدنش دختر خداروشک...\n",
       "1                                          چقدر دزد باحال\n",
       "2       اگر ممکنه کلمه اسکن برنامتون استفاده نکنید نظر...\n",
       "3                            پول اینترنتت گوشیت هزینه بچت\n",
       "4       روستای گوشت یخ زده دادن شورا دهیار دو نفری کشی...\n",
       "                              ...                        \n",
       "1999    بنظرم خوبه توی ۱ بالون بیوفته بلوچستان توی بیا...\n",
       "2000                                                     \n",
       "2001    توصیه نقش بابا پنجعلی بعدی کمینقشش رنگتر اینکه...\n",
       "2002                                         بار بگه ببند\n",
       "2003    تشکر پرمخاطب تابنده سوال بفرمایید جاذبههای شیر...\n",
       "Name: comment, Length: 2000, dtype: object"
      ]
     },
     "execution_count": 48,
     "metadata": {},
     "output_type": "execute_result"
    }
   ],
   "source": [
    "df2['comment']"
   ]
  },
  {
   "cell_type": "markdown",
   "id": "2d5f1c83",
   "metadata": {},
   "source": [
    "## Shuffled"
   ]
  },
  {
   "cell_type": "code",
   "execution_count": 49,
   "id": "1b7c1d88",
   "metadata": {},
   "outputs": [],
   "source": [
    "from sklearn.utils import shuffle"
   ]
  },
  {
   "cell_type": "code",
   "execution_count": 50,
   "id": "ac3f9b3b",
   "metadata": {},
   "outputs": [],
   "source": [
    "shuffled_df = shuffle(df2,random_state=42)"
   ]
  },
  {
   "cell_type": "markdown",
   "id": "21d7fde1",
   "metadata": {},
   "source": [
    "## balanced data"
   ]
  },
  {
   "cell_type": "code",
   "execution_count": 51,
   "id": "7044108e",
   "metadata": {},
   "outputs": [
    {
     "data": {
      "text/plain": [
       "-1    3237\n",
       " 1    2779\n",
       " 0    2464\n",
       "Name: target, dtype: int64"
      ]
     },
     "execution_count": 51,
     "metadata": {},
     "output_type": "execute_result"
    }
   ],
   "source": [
    "df.target.value_counts()"
   ]
  },
  {
   "cell_type": "code",
   "execution_count": 52,
   "id": "edfa7559",
   "metadata": {},
   "outputs": [],
   "source": [
    "df_neg=df[df['target']==(-1)]"
   ]
  },
  {
   "cell_type": "code",
   "execution_count": 53,
   "id": "4df6a6bb",
   "metadata": {},
   "outputs": [],
   "source": [
    "df_pos=df[df['target']==1]"
   ]
  },
  {
   "cell_type": "code",
   "execution_count": 54,
   "id": "dd7d7b13",
   "metadata": {},
   "outputs": [],
   "source": [
    "df_not=df[df['target']==0]"
   ]
  },
  {
   "cell_type": "code",
   "execution_count": 55,
   "id": "63ff7fa6",
   "metadata": {},
   "outputs": [],
   "source": [
    "df_neg=df_neg.sample(df_not.shape[0])"
   ]
  },
  {
   "cell_type": "code",
   "execution_count": 56,
   "id": "aea4d4f2",
   "metadata": {},
   "outputs": [],
   "source": [
    "df_pos=df_pos.sample(df_not.shape[0])"
   ]
  },
  {
   "cell_type": "code",
   "execution_count": 57,
   "id": "77387b90",
   "metadata": {},
   "outputs": [],
   "source": [
    "df_balanced=pd.concat([df_pos,df_neg,df_not])"
   ]
  },
  {
   "cell_type": "code",
   "execution_count": 58,
   "id": "35e82740",
   "metadata": {},
   "outputs": [
    {
     "data": {
      "text/plain": [
       " 1    2464\n",
       "-1    2464\n",
       " 0    2464\n",
       "Name: target, dtype: int64"
      ]
     },
     "execution_count": 58,
     "metadata": {},
     "output_type": "execute_result"
    }
   ],
   "source": [
    "df_balanced['target'].value_counts()"
   ]
  },
  {
   "cell_type": "markdown",
   "id": "59bb4b4e",
   "metadata": {},
   "source": [
    "### change to csv"
   ]
  },
  {
   "cell_type": "code",
   "execution_count": 59,
   "id": "b2fb9da0",
   "metadata": {},
   "outputs": [],
   "source": [
    "df_balanced.to_csv (\"df_balanced_csv.csv\", index = None, header=True)"
   ]
  },
  {
   "cell_type": "code",
   "execution_count": 60,
   "id": "fbb6c88d",
   "metadata": {},
   "outputs": [],
   "source": [
    "df_balanced_csv=pd.read_csv('df_balanced_csv.csv')"
   ]
  },
  {
   "cell_type": "markdown",
   "id": "94c6baae",
   "metadata": {},
   "source": [
    "## BEART model"
   ]
  },
  {
   "cell_type": "code",
   "execution_count": 61,
   "id": "aea5d3d9",
   "metadata": {},
   "outputs": [],
   "source": [
    "import tensorflow as tf"
   ]
  },
  {
   "cell_type": "code",
   "execution_count": 62,
   "id": "5c6f3aaf",
   "metadata": {},
   "outputs": [],
   "source": [
    "import os.path"
   ]
  },
  {
   "cell_type": "code",
   "execution_count": 63,
   "id": "5b449acc",
   "metadata": {},
   "outputs": [],
   "source": [
    "import ktrain"
   ]
  },
  {
   "cell_type": "code",
   "execution_count": 64,
   "id": "63619864",
   "metadata": {},
   "outputs": [],
   "source": [
    "from sklearn.model_selection import train_test_split"
   ]
  },
  {
   "cell_type": "code",
   "execution_count": 65,
   "id": "6d421d31",
   "metadata": {},
   "outputs": [
    {
     "data": {
      "text/html": [
       "<div>\n",
       "<style scoped>\n",
       "    .dataframe tbody tr th:only-of-type {\n",
       "        vertical-align: middle;\n",
       "    }\n",
       "\n",
       "    .dataframe tbody tr th {\n",
       "        vertical-align: top;\n",
       "    }\n",
       "\n",
       "    .dataframe thead th {\n",
       "        text-align: right;\n",
       "    }\n",
       "</style>\n",
       "<table border=\"1\" class=\"dataframe\">\n",
       "  <thead>\n",
       "    <tr style=\"text-align: right;\">\n",
       "      <th></th>\n",
       "      <th>target</th>\n",
       "      <th>comment</th>\n",
       "    </tr>\n",
       "  </thead>\n",
       "  <tbody>\n",
       "    <tr>\n",
       "      <th>0</th>\n",
       "      <td>1</td>\n",
       "      <td>سلام اقای رشید پور واقعاخسته نباشید بابت برنام...</td>\n",
       "    </tr>\n",
       "    <tr>\n",
       "      <th>1</th>\n",
       "      <td>1</td>\n",
       "      <td>دوست دارم فراوان</td>\n",
       "    </tr>\n",
       "    <tr>\n",
       "      <th>2</th>\n",
       "      <td>1</td>\n",
       "      <td>خوشحال شدیم اما بهتر زمان برنامه کم باشه ولی پ...</td>\n",
       "    </tr>\n",
       "    <tr>\n",
       "      <th>3</th>\n",
       "      <td>1</td>\n",
       "      <td>اونو  اقا پرویز هنگ  محو شده</td>\n",
       "    </tr>\n",
       "    <tr>\n",
       "      <th>4</th>\n",
       "      <td>1</td>\n",
       "      <td>عالی بود</td>\n",
       "    </tr>\n",
       "  </tbody>\n",
       "</table>\n",
       "</div>"
      ],
      "text/plain": [
       "   target                                            comment\n",
       "0       1  سلام اقای رشید پور واقعاخسته نباشید بابت برنام...\n",
       "1       1                                   دوست دارم فراوان\n",
       "2       1  خوشحال شدیم اما بهتر زمان برنامه کم باشه ولی پ...\n",
       "3       1                       اونو  اقا پرویز هنگ  محو شده\n",
       "4       1                                           عالی بود"
      ]
     },
     "execution_count": 65,
     "metadata": {},
     "output_type": "execute_result"
    }
   ],
   "source": [
    "df_balanced_csv.head(5)"
   ]
  },
  {
   "cell_type": "code",
   "execution_count": 66,
   "id": "65678420",
   "metadata": {},
   "outputs": [],
   "source": [
    "df_balanced_csv=df_balanced_csv.dropna()"
   ]
  },
  {
   "cell_type": "code",
   "execution_count": 68,
   "id": "a6179086",
   "metadata": {},
   "outputs": [],
   "source": [
    "classes =  list(set(np.unique(df_balanced_csv['target'])))"
   ]
  },
  {
   "cell_type": "code",
   "execution_count": 69,
   "id": "4c9e36e9",
   "metadata": {},
   "outputs": [
    {
     "data": {
      "text/plain": [
       "[0, 1, -1]"
      ]
     },
     "execution_count": 69,
     "metadata": {},
     "output_type": "execute_result"
    }
   ],
   "source": [
    "classes"
   ]
  },
  {
   "cell_type": "code",
   "execution_count": 70,
   "id": "23f85182",
   "metadata": {},
   "outputs": [],
   "source": [
    "df_balanced_csv=df_balanced_csv.replace([0, 1, -1],[1,2,0])"
   ]
  },
  {
   "cell_type": "code",
   "execution_count": 73,
   "id": "e1bfdfae",
   "metadata": {},
   "outputs": [
    {
     "data": {
      "text/plain": [
       "0    2458\n",
       "1    2455\n",
       "2    2449\n",
       "Name: target, dtype: int64"
      ]
     },
     "execution_count": 73,
     "metadata": {},
     "output_type": "execute_result"
    }
   ],
   "source": [
    "df_balanced_csv['target'].value_counts()"
   ]
  },
  {
   "cell_type": "code",
   "execution_count": 74,
   "id": "4c6bc85a",
   "metadata": {},
   "outputs": [],
   "source": [
    "comment=df_balanced_csv['comment'].tolist()"
   ]
  },
  {
   "cell_type": "code",
   "execution_count": 75,
   "id": "e83d4775",
   "metadata": {},
   "outputs": [],
   "source": [
    "target=df_balanced_csv['target'].tolist()"
   ]
  },
  {
   "cell_type": "code",
   "execution_count": 76,
   "id": "640bc914",
   "metadata": {},
   "outputs": [],
   "source": [
    "x_train, x_test, y_train, y_test = train_test_split(comment, target, shuffle=True, test_size = 0.2, random_state=42, stratify=target)"
   ]
  },
  {
   "cell_type": "code",
   "execution_count": 78,
   "id": "f9ec76a8",
   "metadata": {},
   "outputs": [],
   "source": [
    "from ktrain import text"
   ]
  },
  {
   "cell_type": "code",
   "execution_count": 79,
   "id": "0ba6e093",
   "metadata": {},
   "outputs": [
    {
     "data": {
      "text/plain": [
       "array([0, 1, 2])"
      ]
     },
     "execution_count": 79,
     "metadata": {},
     "output_type": "execute_result"
    }
   ],
   "source": [
    "np.unique(target)"
   ]
  },
  {
   "cell_type": "code",
   "execution_count": 80,
   "id": "3967a330",
   "metadata": {},
   "outputs": [],
   "source": [
    "classes =  list(set(np.unique(target)))"
   ]
  },
  {
   "cell_type": "code",
   "execution_count": 81,
   "id": "0268c8bb",
   "metadata": {},
   "outputs": [
    {
     "data": {
      "text/plain": [
       "[0, 1, 2]"
      ]
     },
     "execution_count": 81,
     "metadata": {},
     "output_type": "execute_result"
    }
   ],
   "source": [
    "classes"
   ]
  },
  {
   "cell_type": "code",
   "execution_count": 82,
   "id": "3a4b44de",
   "metadata": {},
   "outputs": [
    {
     "data": {
      "text/html": [
       "<div>\n",
       "<style scoped>\n",
       "    .dataframe tbody tr th:only-of-type {\n",
       "        vertical-align: middle;\n",
       "    }\n",
       "\n",
       "    .dataframe tbody tr th {\n",
       "        vertical-align: top;\n",
       "    }\n",
       "\n",
       "    .dataframe thead th {\n",
       "        text-align: right;\n",
       "    }\n",
       "</style>\n",
       "<table border=\"1\" class=\"dataframe\">\n",
       "  <thead>\n",
       "    <tr style=\"text-align: right;\">\n",
       "      <th></th>\n",
       "      <th>target</th>\n",
       "      <th>comment</th>\n",
       "    </tr>\n",
       "  </thead>\n",
       "  <tbody>\n",
       "    <tr>\n",
       "      <th>0</th>\n",
       "      <td>2</td>\n",
       "      <td>سلام اقای رشید پور واقعاخسته نباشید بابت برنام...</td>\n",
       "    </tr>\n",
       "    <tr>\n",
       "      <th>1</th>\n",
       "      <td>2</td>\n",
       "      <td>دوست دارم فراوان</td>\n",
       "    </tr>\n",
       "    <tr>\n",
       "      <th>2</th>\n",
       "      <td>2</td>\n",
       "      <td>خوشحال شدیم اما بهتر زمان برنامه کم باشه ولی پ...</td>\n",
       "    </tr>\n",
       "    <tr>\n",
       "      <th>3</th>\n",
       "      <td>2</td>\n",
       "      <td>اونو  اقا پرویز هنگ  محو شده</td>\n",
       "    </tr>\n",
       "    <tr>\n",
       "      <th>4</th>\n",
       "      <td>2</td>\n",
       "      <td>عالی بود</td>\n",
       "    </tr>\n",
       "  </tbody>\n",
       "</table>\n",
       "</div>"
      ],
      "text/plain": [
       "   target                                            comment\n",
       "0       2  سلام اقای رشید پور واقعاخسته نباشید بابت برنام...\n",
       "1       2                                   دوست دارم فراوان\n",
       "2       2  خوشحال شدیم اما بهتر زمان برنامه کم باشه ولی پ...\n",
       "3       2                       اونو  اقا پرویز هنگ  محو شده\n",
       "4       2                                           عالی بود"
      ]
     },
     "execution_count": 82,
     "metadata": {},
     "output_type": "execute_result"
    }
   ],
   "source": [
    "df_balanced_csv.head(5)"
   ]
  },
  {
   "cell_type": "code",
   "execution_count": 83,
   "id": "4d207338",
   "metadata": {},
   "outputs": [],
   "source": [
    "dataframe=pd.DataFrame(data={'target':df_balanced_csv['target'],'comment':df_balanced_csv['comment']})"
   ]
  },
  {
   "cell_type": "code",
   "execution_count": 84,
   "id": "d4c1342c",
   "metadata": {},
   "outputs": [],
   "source": [
    "dataframe.to_csv (\"df.csv\", index = None, header=True)"
   ]
  },
  {
   "cell_type": "code",
   "execution_count": 85,
   "id": "c175fcf1",
   "metadata": {},
   "outputs": [],
   "source": [
    "from sklearn.preprocessing import LabelEncoder"
   ]
  },
  {
   "cell_type": "code",
   "execution_count": 86,
   "id": "aa211617",
   "metadata": {},
   "outputs": [],
   "source": [
    "le = LabelEncoder()"
   ]
  },
  {
   "cell_type": "code",
   "execution_count": 87,
   "id": "4e1346ee",
   "metadata": {},
   "outputs": [],
   "source": [
    "dataframe['target']=le.fit_transform(dataframe['target'].values)"
   ]
  },
  {
   "cell_type": "code",
   "execution_count": 88,
   "id": "b15e908e",
   "metadata": {},
   "outputs": [
    {
     "data": {
      "text/plain": [
       "0    2458\n",
       "1    2455\n",
       "2    2449\n",
       "Name: target, dtype: int64"
      ]
     },
     "execution_count": 88,
     "metadata": {},
     "output_type": "execute_result"
    }
   ],
   "source": [
    "dataframe['target'].value_counts()"
   ]
  },
  {
   "cell_type": "code",
   "execution_count": 89,
   "id": "cad5104d",
   "metadata": {},
   "outputs": [
    {
     "name": "stdout",
     "output_type": "stream",
     "text": [
      "object\n"
     ]
    }
   ],
   "source": [
    "print(dataframe['comment'].dtype)"
   ]
  },
  {
   "cell_type": "code",
   "execution_count": 90,
   "id": "cb66feda",
   "metadata": {},
   "outputs": [],
   "source": [
    "dataframe['comment'] = dataframe['comment'].astype(str)"
   ]
  },
  {
   "cell_type": "code",
   "execution_count": 91,
   "id": "4ef1f420",
   "metadata": {},
   "outputs": [
    {
     "name": "stdout",
     "output_type": "stream",
     "text": [
      "object\n"
     ]
    }
   ],
   "source": [
    "print(dataframe['comment'].dtype)"
   ]
  },
  {
   "cell_type": "code",
   "execution_count": 92,
   "id": "9745ea6b",
   "metadata": {},
   "outputs": [],
   "source": [
    "dataframe.to_csv (\"df.csv\", index = None, header=True)"
   ]
  },
  {
   "cell_type": "code",
   "execution_count": 93,
   "id": "ae5b006c",
   "metadata": {},
   "outputs": [
    {
     "ename": "FileNotFoundError",
     "evalue": "[WinError 3] The system cannot find the path specified: 'D:/mohemmmmm/personal-projects/mohem/ML/mohem-ml/fanapp/df_zip/data\\\\train'",
     "output_type": "error",
     "traceback": [
      "\u001b[1;31m---------------------------------------------------------------------------\u001b[0m",
      "\u001b[1;31mFileNotFoundError\u001b[0m                         Traceback (most recent call last)",
      "Input \u001b[1;32mIn [93]\u001b[0m, in \u001b[0;36m<cell line: 1>\u001b[1;34m()\u001b[0m\n\u001b[1;32m----> 1\u001b[0m (x_train_bert,y_train_bert),(x_test_bert,y_test_bert), preproc\u001b[38;5;241m=\u001b[39m\u001b[43mtext\u001b[49m\u001b[38;5;241;43m.\u001b[39;49m\u001b[43mtexts_from_folder\u001b[49m\u001b[43m(\u001b[49m\u001b[43mdatadir\u001b[49m\u001b[38;5;241;43m=\u001b[39;49m\u001b[43mos\u001b[49m\u001b[38;5;241;43m.\u001b[39;49m\u001b[43mpath\u001b[49m\u001b[38;5;241;43m.\u001b[39;49m\u001b[43mjoin\u001b[49m\u001b[43m(\u001b[49m\u001b[43mos\u001b[49m\u001b[38;5;241;43m.\u001b[39;49m\u001b[43mpath\u001b[49m\u001b[38;5;241;43m.\u001b[39;49m\u001b[43mdirname\u001b[49m\u001b[43m(\u001b[49m\u001b[38;5;124;43m'\u001b[39;49m\u001b[38;5;124;43mD:/mohemmmmm/personal-projects/mohem/ML/mohem-ml/fanapp/\u001b[39;49m\u001b[38;5;124;43m'\u001b[39;49m\u001b[43m)\u001b[49m\u001b[38;5;241;43m+\u001b[39;49m\u001b[38;5;124;43m'\u001b[39;49m\u001b[38;5;124;43m/df_zip/data\u001b[39;49m\u001b[38;5;124;43m'\u001b[39;49m\u001b[43m)\u001b[49m\u001b[43m,\u001b[49m\u001b[43m        \u001b[49m\n\u001b[0;32m      2\u001b[0m \u001b[43m                                                                       \u001b[49m\u001b[43mmaxlen\u001b[49m\u001b[38;5;241;43m=\u001b[39;49m\u001b[38;5;241;43m500\u001b[39;49m\u001b[43m,\u001b[49m\u001b[43m \u001b[49m\n\u001b[0;32m      3\u001b[0m \u001b[43m                                                                       \u001b[49m\u001b[43mtrain_test_names\u001b[49m\u001b[38;5;241;43m=\u001b[39;49m\u001b[43m[\u001b[49m\u001b[38;5;124;43m'\u001b[39;49m\u001b[38;5;124;43mtrain\u001b[39;49m\u001b[38;5;124;43m'\u001b[39;49m\u001b[43m,\u001b[49m\u001b[38;5;124;43m'\u001b[39;49m\u001b[38;5;124;43mtest\u001b[39;49m\u001b[38;5;124;43m'\u001b[39;49m\u001b[43m]\u001b[49m\u001b[43m  \u001b[49m\u001b[43m,\u001b[49m\u001b[43m             \u001b[49m\n\u001b[0;32m      4\u001b[0m \u001b[43m                                                                       \u001b[49m\u001b[43mpreprocess_mode\u001b[49m\u001b[38;5;241;43m=\u001b[39;49m\u001b[38;5;124;43m'\u001b[39;49m\u001b[38;5;124;43mbert\u001b[39;49m\u001b[38;5;124;43m'\u001b[39;49m\u001b[43m)\u001b[49m\n",
      "File \u001b[1;32m~\\AppData\\Roaming\\Python\\Python310\\site-packages\\ktrain\\text\\data.py:78\u001b[0m, in \u001b[0;36mtexts_from_folder\u001b[1;34m(datadir, classes, max_features, maxlen, ngram_range, train_test_names, preprocess_mode, encoding, lang, val_pct, random_state, verbose)\u001b[0m\n\u001b[0;32m     76\u001b[0m \u001b[38;5;66;03m# read in training and test corpora\u001b[39;00m\n\u001b[0;32m     77\u001b[0m train_str \u001b[38;5;241m=\u001b[39m train_test_names[\u001b[38;5;241m0\u001b[39m]\n\u001b[1;32m---> 78\u001b[0m train_b \u001b[38;5;241m=\u001b[39m \u001b[43mload_files\u001b[49m\u001b[43m(\u001b[49m\n\u001b[0;32m     79\u001b[0m \u001b[43m    \u001b[49m\u001b[43mos\u001b[49m\u001b[38;5;241;43m.\u001b[39;49m\u001b[43mpath\u001b[49m\u001b[38;5;241;43m.\u001b[39;49m\u001b[43mjoin\u001b[49m\u001b[43m(\u001b[49m\u001b[43mdatadir\u001b[49m\u001b[43m,\u001b[49m\u001b[43m \u001b[49m\u001b[43mtrain_str\u001b[49m\u001b[43m)\u001b[49m\u001b[43m,\u001b[49m\u001b[43m \u001b[49m\u001b[43mshuffle\u001b[49m\u001b[38;5;241;43m=\u001b[39;49m\u001b[38;5;28;43;01mTrue\u001b[39;49;00m\u001b[43m,\u001b[49m\u001b[43m \u001b[49m\u001b[43mcategories\u001b[49m\u001b[38;5;241;43m=\u001b[39;49m\u001b[43mclasses\u001b[49m\n\u001b[0;32m     80\u001b[0m \u001b[43m\u001b[49m\u001b[43m)\u001b[49m\n\u001b[0;32m     81\u001b[0m \u001b[38;5;28;01mif\u001b[39;00m \u001b[38;5;28mlen\u001b[39m(train_test_names) \u001b[38;5;241m>\u001b[39m \u001b[38;5;241m1\u001b[39m:\n\u001b[0;32m     82\u001b[0m     test_str \u001b[38;5;241m=\u001b[39m train_test_names[\u001b[38;5;241m1\u001b[39m]\n",
      "File \u001b[1;32m~\\AppData\\Roaming\\Python\\Python310\\site-packages\\sklearn\\datasets\\_base.py:219\u001b[0m, in \u001b[0;36mload_files\u001b[1;34m(container_path, description, categories, load_content, shuffle, encoding, decode_error, random_state, allowed_extensions)\u001b[0m\n\u001b[0;32m    215\u001b[0m target_names \u001b[38;5;241m=\u001b[39m []\n\u001b[0;32m    216\u001b[0m filenames \u001b[38;5;241m=\u001b[39m []\n\u001b[0;32m    218\u001b[0m folders \u001b[38;5;241m=\u001b[39m [\n\u001b[1;32m--> 219\u001b[0m     f \u001b[38;5;28;01mfor\u001b[39;00m f \u001b[38;5;129;01min\u001b[39;00m \u001b[38;5;28msorted\u001b[39m(\u001b[43mlistdir\u001b[49m\u001b[43m(\u001b[49m\u001b[43mcontainer_path\u001b[49m\u001b[43m)\u001b[49m) \u001b[38;5;28;01mif\u001b[39;00m isdir(join(container_path, f))\n\u001b[0;32m    220\u001b[0m ]\n\u001b[0;32m    222\u001b[0m \u001b[38;5;28;01mif\u001b[39;00m categories \u001b[38;5;129;01mis\u001b[39;00m \u001b[38;5;129;01mnot\u001b[39;00m \u001b[38;5;28;01mNone\u001b[39;00m:\n\u001b[0;32m    223\u001b[0m     folders \u001b[38;5;241m=\u001b[39m [f \u001b[38;5;28;01mfor\u001b[39;00m f \u001b[38;5;129;01min\u001b[39;00m folders \u001b[38;5;28;01mif\u001b[39;00m f \u001b[38;5;129;01min\u001b[39;00m categories]\n",
      "\u001b[1;31mFileNotFoundError\u001b[0m: [WinError 3] The system cannot find the path specified: 'D:/mohemmmmm/personal-projects/mohem/ML/mohem-ml/fanapp/df_zip/data\\\\train'"
     ]
    }
   ],
   "source": [
    "(x_train_bert,y_train_bert),(x_test_bert,y_test_bert), preproc=text.texts_from_folder(datadir=os.path.join(os.path.dirname('D:/mohemmmmm/personal-projects/mohem/ML/mohem-ml/fanapp/')+'/df_zip/data'),        \n",
    "                                                                       maxlen=500, \n",
    "                                                                       train_test_names=['train','test']  ,             \n",
    "                                                                       preprocess_mode='bert')"
   ]
  },
  {
   "cell_type": "code",
   "execution_count": 94,
   "id": "db7c2ab9",
   "metadata": {},
   "outputs": [
    {
     "data": {
      "text/plain": [
       "'D:/mohemmmmm/personal-projects/mohem/ML/mohem-ml/fanapp/df_zip/data'"
      ]
     },
     "execution_count": 94,
     "metadata": {},
     "output_type": "execute_result"
    }
   ],
   "source": [
    "os.path.join(os.path.dirname('D:/mohemmmmm/personal-projects/mohem/ML/mohem-ml/fanapp/')+'/df_zip/data')"
   ]
  },
  {
   "attachments": {},
   "cell_type": "markdown",
   "id": "ea9e1d0f",
   "metadata": {},
   "source": [
    "## BERT"
   ]
  },
  {
   "attachments": {},
   "cell_type": "markdown",
   "id": "d1b0f407",
   "metadata": {},
   "source": [
    "### Solved in google colab"
   ]
  },
  {
   "cell_type": "code",
   "execution_count": null,
   "id": "3697e51e",
   "metadata": {},
   "outputs": [],
   "source": [
    "## Link\n",
    "https://colab.research.google.com/drive/192TY-RM2Chljq7yiuzZvOf2tTGJaNiks#scrollTo=sUnjSLvwa_Gf"
   ]
  },
  {
   "cell_type": "code",
   "execution_count": null,
   "id": "d58db0c3",
   "metadata": {},
   "outputs": [],
   "source": []
  }
 ],
 "metadata": {
  "kernelspec": {
   "display_name": "Python 3 (ipykernel)",
   "language": "python",
   "name": "python3"
  },
  "language_info": {
   "codemirror_mode": {
    "name": "ipython",
    "version": 3
   },
   "file_extension": ".py",
   "mimetype": "text/x-python",
   "name": "python",
   "nbconvert_exporter": "python",
   "pygments_lexer": "ipython3",
   "version": "3.10.8"
  }
 },
 "nbformat": 4,
 "nbformat_minor": 5
}
